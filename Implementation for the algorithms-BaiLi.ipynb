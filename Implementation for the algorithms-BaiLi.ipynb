{
 "cells": [
  {
   "cell_type": "markdown",
   "metadata": {},
   "source": [
    "<center> Scalable K-means++</center>\n",
    " ====\n",
    "<center> Bai Li, Jialiang Mao </center>\n",
    "----"
   ]
  },
  {
   "cell_type": "markdown",
   "metadata": {},
   "source": [
    "Abstract\n",
    "----\n",
    "K-means algorithm is one of the most popular clustering algorithm. A crucial part of k-means algorithm is the choice of initial centers while a poor initial centers may lead to locally optimal solution. To beat this, the k-means++ initialization is proposed to obtain an initial set of centers that is close to the global optimum solution. However, because of its sequential nature, the k-means++ is not scalable. The paper introduces a scalable k-means++ algorithm by reducing the number of passes needed to obtain a good initialization. \n"
   ]
  },
  {
   "cell_type": "markdown",
   "metadata": {},
   "source": [
    "1. Outline\n",
    "----\n",
    "\n",
    "In this project, we implement this algorithm and test its performance with simulation studies. We also try multiple ways to improve its performace including Cython, vectorization and finally parallelization.\n",
    "\n",
    "The outline of our project is listed:\n",
    "  * Implement the basic version of k-means algorithm\n",
    "  * Implement k-means++ and scalable k-means initialization based on basic k-means.\n",
    "  * Simulate data that come from prespecified clusters and test our algorithms for both correctness and efficiency.\n",
    "  * Optimize the algorithms with Cython. We implement the most ineffcient part (mostly for loops) with Cython and test its performance.\n",
    "  * Optimize the algorithms with vectorization. We replace for loops with vectorization to improve the efficiency."
   ]
  },
  {
   "cell_type": "markdown",
   "metadata": {},
   "source": [
    "2. Implementation\n",
    "----\n",
    "\n",
    "In this section, we implement basic k-means, k-means++ and scalable k-means++. Note we also leave interfaces for cython so we can improve the performance later. "
   ]
  },
  {
   "cell_type": "markdown",
   "metadata": {},
   "source": [
    "Firstly, we implement the basic k-means algorithm, which is the foundation of other k-means algorithms. To begin with, we define some measures that appear in the k-means algorithm."
   ]
  },
  {
   "cell_type": "code",
<<<<<<< HEAD
   "execution_count": 212,
=======
   "execution_count": 1,
>>>>>>> f2fb51e80adbdb00515ac8c85099f3e7ed8914f0
   "metadata": {
    "collapsed": true
   },
   "outputs": [],
   "source": [
    "import os\n",
    "import sys\n",
    "import glob\n",
    "import matplotlib.pyplot as plt\n",
    "import numpy as np\n",
    "import pandas as pd\n",
    "import scipy.linalg as la\n",
    "import time\n",
    "from random import randint\n",
    "%matplotlib inline\n",
    "%precision 7\n",
    "plt.style.use('ggplot')\n",
    "import numpy.random as rng\n"
   ]
  },
  {
   "cell_type": "code",
<<<<<<< HEAD
   "execution_count": 228,
=======
   "execution_count": 2,
>>>>>>> f2fb51e80adbdb00515ac8c85099f3e7ed8914f0
   "metadata": {
    "collapsed": true
   },
   "outputs": [],
   "source": [
    "rng.seed(123)"
   ]
  },
  {
   "cell_type": "code",
<<<<<<< HEAD
   "execution_count": 229,
=======
   "execution_count": 3,
   "metadata": {
    "collapsed": true
   },
   "outputs": [],
   "source": [
    "def data_generator2(n):\n",
    "    \"\"\" \n",
    "    Generate data that come from 3 clusters whose centroids are specified.\n",
    "    \n",
    "    Parameters\n",
    "    ----------\n",
    "    n: number of data we want to obtain from each cluster\n",
    "    \"\"\"\n",
    "    mean = np.array([[-3,0],[3,0],[0,5]])\n",
    "    data=np.random.multivariate_normal(mean[0,], np.eye(2), n)\n",
    "    data=np.hstack((data, np.zeros((data.shape[0],1))))\n",
    "    for i in [1,2]:\n",
    "        data_tmp=np.random.multivariate_normal(mean[i,], np.eye(2), n)\n",
    "        data=np.vstack((data,np.hstack((data_tmp, np.ones((data_tmp.shape[0],1))*i))))\n",
    "        np.random.shuffle(data)\n",
    "    #print (data.shape)\n",
    "    observation = data [:,0:2]\n",
    "    cluster_number = data [:,2]\n",
    "    return observation,cluster_number"
   ]
  },
  {
   "cell_type": "code",
   "execution_count": 4,
>>>>>>> f2fb51e80adbdb00515ac8c85099f3e7ed8914f0
   "metadata": {
    "collapsed": false
   },
   "outputs": [],
   "source": [
    "#define some measures that we will use\n",
    "\n",
    "def squared_euclidean_norm(u, axis=-1):\n",
    "    \"\"\"\n",
    "    Calculate the squared Euclidean norm.\n",
    "    \"\"\"\n",
    "    return((u**2).sum(axis))\n",
    "\n",
    "def euclidean_norm(u, axis=-1):\n",
    "    \"\"\"\n",
    "    Calculate the Euclidean norm.\n",
    "    \"\"\"\n",
    "    return np.sqrt(squared_euclidean_norm(u, axis))\n",
    "\n",
    "def squared_euclidean_dist(u, v, axis=-1):\n",
    "    \"\"\"\n",
    "    Calculate squared Euclidean distance between two vectors.\n",
    "    \"\"\"\n",
    "    return squared_euclidean_norm(u-v, axis)\n",
    "\n",
    "def min_squared_euclidean_dist(uV, v, axis=-1):\n",
    "    \"\"\"\n",
    "    Calculate the minimum of Euclidean distance between a list of vectors and a vector v.\n",
    "    \"\"\"\n",
    "    minimum_dis_array = squared_euclidean_dist(uV[0],v)\n",
    "    for i in range(0,len(uV)):\n",
    "        minimum_dis_array = np.minimum(squared_euclidean_dist(uV[i],v),minimum_dis_array)\n",
    "    return minimum_dis_array\n",
    "\n",
    "def euclidean_dist(u, v, axis=-1):\n",
    "    \"\"\"\n",
    "    Calculate Euclidean distacne between two vectors.\n",
    "    \"\"\"\n",
    "    return np.sqrt(squared_euclidean_dist(u, v, axis))"
   ]
  },
  {
   "cell_type": "markdown",
   "metadata": {},
   "source": [
    "Next, we define the function to implement the k-means algorithm. Here we also create an interface to allow future speed-up with Cython."
   ]
  },
  {
   "cell_type": "code",
<<<<<<< HEAD
   "execution_count": 230,
=======
   "execution_count": 5,
>>>>>>> f2fb51e80adbdb00515ac8c85099f3e7ed8914f0
   "metadata": {
    "collapsed": false
   },
   "outputs": [],
   "source": [
    "def K_Means_basic(k,DATA, initial_centroid,advanced = False, isCython =False):\n",
    "    \"\"\"\n",
    "    Implement the basic version of k-means algorithm.\n",
    "    \n",
    "    Parameters\n",
    "    ----------\n",
    "    k : the number of clusters\n",
    "    \n",
    "    DATA : the data we apply k-means to\n",
    "    \n",
    "    initial_centroid : the initial guess for the centroids\n",
    "    \n",
    "    advanced : logic value, if it is True, we use initial_centroid as start points, \n",
    "    otherwise, use random samples from the data\n",
    "    \n",
    "    isCython : logic value, it it is True, we run loops with Cython\n",
    "    \"\"\"\n",
    "    updated_centroid = initial_centroid\n",
    "    if not advanced: # meaning it is just a basic version, we sample 5 random points as our cluster\n",
    "        updated_centroid = DATA[np.random.choice(range(DATA.shape[0]),k), :]\n",
    "        \n",
    "    count, count2 = 0,0\n",
    "    n_feature = len(DATA[0])\n",
    "    assignment,assignment2 = np.ones(len(DATA)),np.zeros(len(DATA))\n",
    "    \n",
    "    while not np.array_equal(assignment,assignment2) : #if the labeling of cluster do not change\n",
    "        assignment2=assignment.copy()\n",
    "        for i in range(0,len(DATA)):\n",
    "            count = count +1\n",
    "            if not isCython:\n",
    "                dist_array = euclidean_dist(updated_centroid,DATA[i]) # find the distance array \n",
    "            if isCython:\n",
    "                dist_array = euclidean_dist_cython(updated_centroid,DATA[i])\n",
    "            assignment[i] = min(np.asarray(np.where(dist_array[:]==min(dist_array))))[0]\n",
    "        for j in range(0,k):\n",
    "            #updates the cnetroid\n",
    "            updated_centroid[j] = np.mean(DATA[np.where(assignment[:]==j)][:,0:n_feature], axis=0)\n",
    "        count2 = count2 +1\n",
    "    return updated_centroid,assignment"
   ]
  },
  {
   "cell_type": "markdown",
   "metadata": {},
   "source": [
    "With the algorithm that implement the basic k-means algorithm, we can now define the k-means++ algorithm. Instead of randomly select initial cluster centers, we only select the first initial cluser center randomly and choose other initial centers in a sequential way. Specifically, given current initial centers, we choose the next initial center so that its far from current centers."
   ]
  },
  {
   "cell_type": "code",
<<<<<<< HEAD
   "execution_count": 231,
=======
   "execution_count": 6,
>>>>>>> f2fb51e80adbdb00515ac8c85099f3e7ed8914f0
   "metadata": {
    "collapsed": true
   },
   "outputs": [],
   "source": [
    "def K_Means_plusplus(k,DATA,isCython = False):\n",
    "    \"\"\"\n",
    "    Perform k-means++ algorithm to obtain optimized initial guess for the centroids.\n",
    "    \n",
    "    Parameters\n",
    "    ----------\n",
    "    k : the number of clusters\n",
    "    \n",
    "    DATA : the data we apply k-means to\n",
    "    \n",
    "    isCython : logic value, it it is True, we run loops with Cython\n",
    "    \"\"\"\n",
    "    random_point_index = randint(0,len(DATA))\n",
    "    center = []\n",
    "    center.append(DATA[random_point_index]) #Sample a point uniformly at random from X\n",
    "    phi_x_C_vector = squared_euclidean_dist(center[0],DATA)\n",
    "    p_x = phi_x_C_vector/sum(phi_x_C_vector) #Calculate the weight probability\n",
    "    cluster2 = []\n",
    "    while len(center) < k:\n",
    "        nnn = np.random.multinomial(1,p_x).tolist() # sample a point with the weight probability\n",
    "        loc1 = nnn.index(max(nnn))\n",
    "        center.append(DATA[loc1])\n",
    "        phi_x_C_vector = min_squared_euclidean_dist(center,DATA)\n",
    "        p_x = phi_x_C_vector/sum(phi_x_C_vector) #updates the weight probability\n",
    "    return K_Means_basic(k,DATA,np.array(center),True,isCython)"
   ]
  },
  {
   "cell_type": "markdown",
   "metadata": {},
   "source": [
    "The k-means++ algorithm gives a way to systematically select a collection of initial cluster centers. However, the sequential nature behind this initialization makes it hard for us to run this algoriehm in parallel. Therefore, we then implement the scalable k-means++ algorithm, which could be viewed as a combination of the basic random initialization and the sequential initialization."
   ]
  },
  {
   "cell_type": "code",
<<<<<<< HEAD
   "execution_count": 232,
=======
   "execution_count": 7,
>>>>>>> f2fb51e80adbdb00515ac8c85099f3e7ed8914f0
   "metadata": {
    "collapsed": true
   },
   "outputs": [],
   "source": [
    "def Scalable_K_Means(k,l,DATA,isCython=False):\n",
    "    \"\"\"\n",
    "    Perform scalable k-means algorithm to obtain optimized initial guess for the centroids.\n",
    "    \n",
    "    Parameters\n",
    "    ----------\n",
    "    k : the number of clusters\n",
    "    \n",
    "    l : oversample factor\n",
    "    \n",
    "    DATA : the data we apply k-means to\n",
    "    \n",
    "    isCython : logic value, it it is True, we run loops with Cython\n",
    "    \"\"\"\n",
    "    random_point_index = randint(0,len(DATA))\n",
    "    center = []\n",
    "    center.append(DATA[random_point_index]) #Sample a point uniformly at random from X\n",
    "    \n",
    "    phi_x_C_vector = squared_euclidean_dist(center[0],DATA)\n",
    "    p_x = (l*phi_x_C_vector) / sum(phi_x_C_vector) #Calculate the weight probability\n",
    "    \n",
    "    for i in range(0,int(np.log(sum(phi_x_C_vector)))):\n",
    "        uniform_p = np.random.uniform(0,1,len(DATA))\n",
    "        \n",
    "        for j in range(0,len(DATA)):\n",
    "            if uniform_p[j] < p_x[j]:\n",
    "                center.append(DATA[j]) # sample each point x<- X independently\n",
    "                \n",
    "            phi_x_C_vector = min_squared_euclidean_dist(center,DATA) \n",
    "            p_x = l*phi_x_C_vector/sum(phi_x_C_vector)\n",
    "            \n",
    "    w_x_vector = np.zeros(len(center))\n",
    "    \n",
    "    if isCython: #put if statment outside of the for loop\n",
    "        center_array = np.asarray(center)\n",
    "        for i in range(0,len(DATA)):\n",
    "            nn = euclidean_dist_cython(center_array,DATA[i]).tolist()\n",
    "            loc = nn.index(min(nn))\n",
    "            w_x_vector[loc] = w_x_vector[loc] + 1\n",
    "    if not isCython:\n",
    "        for i in range(0,len(DATA)):\n",
    "            nn = euclidean_dist(center,DATA[i]).tolist()\n",
    "            loc = nn.index(min(nn))\n",
    "            w_x_vector[loc] = w_x_vector[loc] + 1\n",
    "    \n",
    "    w_x_vector_prob = w_x_vector/sum(w_x_vector)\n",
    "    center2 = []\n",
    "    \n",
    "    while len(center2) < k:\n",
    "        nnn = np.random.multinomial(1,w_x_vector_prob).tolist() # sample a point with the weight \n",
    "        loc1 = nnn.index(max(nnn))\n",
    "        center2.append(center[loc1])\n",
    "        phi_x_C_vector = min_squared_euclidean_dist(center2,center)\n",
    "        p_x = phi_x_C_vector/sum(phi_x_C_vector)\n",
    "    #print center2\n",
    "    return K_Means_basic(k,DATA,np.asarray(center2),True,isCython)"
   ]
  },
  {
   "cell_type": "markdown",
   "metadata": {},
   "source": [
    "3. Testing\n",
    "----"
   ]
  },
  {
   "cell_type": "markdown",
   "metadata": {},
   "source": [
    "Firstly, we need to test that our impletations actually work. Here we consider two simulation cases. "
   ]
  },
  {
   "cell_type": "markdown",
   "metadata": {},
   "source": [
    "### Example 1."
   ]
  },
  {
   "cell_type": "markdown",
   "metadata": {},
   "source": [
    "In the first case, we consider data in $R^3$. We pre-define five clusters and generate 100 data in each cluster.  "
   ]
  },
  {
   "cell_type": "code",
<<<<<<< HEAD
   "execution_count": 233,
=======
   "execution_count": 8,
>>>>>>> f2fb51e80adbdb00515ac8c85099f3e7ed8914f0
   "metadata": {
    "collapsed": true
   },
   "outputs": [],
   "source": [
    "def data_generator(n):\n",
    "    \"\"\" \n",
    "    Generate data that come from 5 clusters whose centroids are specified.\n",
    "    \n",
    "    Parameters\n",
    "    ----------\n",
    "    n: number of data we want to obtain from each cluster\n",
    "    \"\"\"\n",
    "    mean = np.array([[10,10,10],[10,0,0],[0,10,0],[0,0,10],[0, 0, 0]])\n",
    "    data=np.random.multivariate_normal(mean[0,], np.eye(3), n)\n",
    "    data=np.hstack((data, np.zeros((data.shape[0],1))))\n",
    "    for i in [1,2,3,4]:\n",
    "        data_tmp=np.random.multivariate_normal(mean[i,], np.eye(3), n)\n",
    "        data=np.vstack((data,np.hstack((data_tmp, np.ones((data_tmp.shape[0],1))*i))))\n",
    "        np.random.shuffle(data)\n",
    "    #print (data.shape)\n",
    "    \n",
    "    observation = data [:,0:3]\n",
    "    cluster_number = data [:,3]\n",
    "    return observation,cluster_number"
   ]
  },
  {
   "cell_type": "code",
   "execution_count": 281,
   "metadata": {
    "collapsed": true
   },
   "outputs": [],
   "source": [
    "rng.seed(144)\n",
    "X,y = data_generator(100)\n",
    "initial_centroid = np.array([X[1],X[1],X[1],X[1],X[1]])"
   ]
  },
  {
   "cell_type": "code",
<<<<<<< HEAD
   "execution_count": 317,
=======
   "execution_count": 9,
>>>>>>> f2fb51e80adbdb00515ac8c85099f3e7ed8914f0
   "metadata": {
    "collapsed": false
   },
   "outputs": [
    {
     "data": {
      "text/plain": [
       "array([[  9.9756494e+00,   1.6024067e-02,  -1.9395511e-01],\n",
       "       [  4.7477627e-02,   9.9700087e+00,   2.8864926e-01],\n",
       "       [ -7.4478253e-03,  -1.9155499e-01,  -2.2810827e-02],\n",
       "       [ -5.5065524e-02,  -5.8611554e-02,   1.0071302e+01],\n",
       "       [  1.0013145e+01,   9.9259179e+00,   1.0032203e+01]])"
      ]
     },
     "execution_count": 317,
     "metadata": {},
     "output_type": "execute_result"
    }
   ],
   "source": [
<<<<<<< HEAD
    "rng.seed(144)\n",
    "random.seed(144)\n",
    "centers,index = K_Means_basic(5,X,initial_centroid)\n",
    "centers"
=======
    "X2,y2 = data_generator2(10)\n",
    "initial_centroid = np.array([X2[1],X2[1],X2[1]])"
>>>>>>> f2fb51e80adbdb00515ac8c85099f3e7ed8914f0
   ]
  },
  {
   "cell_type": "code",
   "execution_count": 318,
   "metadata": {
    "collapsed": false
   },
   "outputs": [
    {
     "data": {
      "text/plain": [
       "array([[ -7.4478253e-03,  -1.9155499e-01,  -2.2810827e-02],\n",
       "       [  1.0013145e+01,   9.9259179e+00,   1.0032203e+01],\n",
       "       [  9.9756494e+00,   1.6024067e-02,  -1.9395511e-01],\n",
       "       [ -5.5065524e-02,  -5.8611554e-02,   1.0071302e+01],\n",
       "       [  4.7477627e-02,   9.9700087e+00,   2.8864926e-01]])"
      ]
     },
     "execution_count": 318,
     "metadata": {},
     "output_type": "execute_result"
    }
   ],
   "source": [
    "rng.seed(144)\n",
    "random.seed(144)\n",
    "centers,index = K_Means_plusplus(5,X)\n",
    "centers"
   ]
  },
  {
   "cell_type": "code",
   "execution_count": 321,
   "metadata": {
    "collapsed": false
   },
   "outputs": [
    {
     "data": {
      "text/plain": [
       "array([[  4.7477627e-02,   9.9700087e+00,   2.8864926e-01],\n",
       "       [ -7.4478253e-03,  -1.9155499e-01,  -2.2810827e-02],\n",
       "       [ -5.5065524e-02,  -5.8611554e-02,   1.0071302e+01],\n",
       "       [  1.0013145e+01,   9.9259179e+00,   1.0032203e+01],\n",
       "       [  9.9756494e+00,   1.6024067e-02,  -1.9395511e-01]])"
      ]
     },
     "execution_count": 321,
     "metadata": {},
     "output_type": "execute_result"
    }
   ],
   "source": [
    "rng.seed(144)\n",
    "random.seed(144)\n",
    "centers,index = Scalable_K_Means(5,2,X)\n",
    "centers"
   ]
  },
  {
   "cell_type": "markdown",
   "metadata": {},
   "source": [
    "We can see that the basic k-means algorithm, the k-means++ algorithm and the scalable k-means++ algorithm actually work (they converge to similar centers)."
   ]
  },
  {
   "cell_type": "code",
   "execution_count": 322,
   "metadata": {
    "collapsed": false
   },
   "outputs": [
    {
     "name": "stdout",
     "output_type": "stream",
     "text": [
      "CPU times: user 31.6 ms, sys: 5.22 ms, total: 36.8 ms\n",
      "Wall time: 32.7 ms\n"
     ]
    }
   ],
   "source": [
    "%%time\n",
    "rng.seed(144)\n",
    "random.seed(144)\n",
    "centers,index = K_Means_basic(5,X,initial_centroid)"
   ]
  },
  {
   "cell_type": "code",
   "execution_count": 323,
   "metadata": {
    "collapsed": false
   },
   "outputs": [
    {
     "name": "stdout",
     "output_type": "stream",
     "text": [
      "CPU times: user 20.4 ms, sys: 2.07 ms, total: 22.4 ms\n",
      "Wall time: 20.7 ms\n"
     ]
    }
   ],
   "source": [
    "%%time\n",
    "rng.seed(144)\n",
    "random.seed(144)\n",
    "centers,index = K_Means_plusplus(5,X)"
   ]
  },
  {
   "cell_type": "code",
   "execution_count": 325,
   "metadata": {
    "collapsed": false
   },
   "outputs": [
    {
     "name": "stdout",
     "output_type": "stream",
     "text": [
      "CPU times: user 1.41 s, sys: 1.26 ms, total: 1.41 s\n",
      "Wall time: 1.41 s\n"
     ]
    }
   ],
   "source": [
    "%%time\n",
    "rng.seed(144)\n",
    "random.seed(144)\n",
    "centers,index = Scalable_K_Means(5,2,X)"
   ]
  },
  {
   "cell_type": "markdown",
   "metadata": {},
   "source": [
    "Actually, in this simple simulation case, the non-parallelized scalable k-means++ algorithm is much slower than the other two algorithms. Since the number of our data points is limited, the basic algorithm could converge really fast and the sequential initialization does not take long."
   ]
  },
  {
   "cell_type": "markdown",
   "metadata": {},
   "source": [
    "### Example 2."
   ]
  },
  {
   "cell_type": "markdown",
   "metadata": {},
   "source": [
    "There is a more important reason to 'force' us to use the k-means++ algorithm and the scalable version of it. We use the following example to illustrate this point. In the following case, we consider data in $R^2$. We pre-define four clusters and generate 100 data in each cluster. "
   ]
  },
  {
   "cell_type": "code",
   "execution_count": 326,
   "metadata": {
    "collapsed": true
   },
   "outputs": [],
   "source": [
    "def data_generator2(n):\n",
    "    \"\"\" \n",
    "    Generate data that come from 3 clusters whose centroids are specified.\n",
    "    \n",
    "    Parameters\n",
    "    ----------\n",
    "    n: number of data we want to obtain from each cluster\n",
    "    \"\"\"\n",
    "    mean = np.array([[-5,-5],[-5,5],[5,-2],[5,3]])\n",
    "    data=np.random.multivariate_normal(mean[0,], np.eye(2), n)\n",
    "    data=np.hstack((data, np.zeros((data.shape[0],1))))\n",
    "    for i in [1,2,3]:\n",
    "        data_tmp=np.random.multivariate_normal(mean[i,], np.eye(2), n)\n",
    "        data=np.vstack((data,np.hstack((data_tmp, np.ones((data_tmp.shape[0],1))*i))))\n",
    "        np.random.shuffle(data)\n",
    "    #print (data.shape)\n",
    "    observation = data [:,0:2]\n",
    "    cluster_number = data [:,2]\n",
    "    return observation,cluster_number"
   ]
  },
  {
   "cell_type": "code",
   "execution_count": 335,
   "metadata": {
    "collapsed": false
   },
   "outputs": [],
   "source": [
    "###---Generate data---###\n",
    "\n",
    "rng.seed(144)\n",
    "X2,y2 = data_generator2(100)\n",
    "initial_centroid2 = np.array([X2[1],X2[1],X2[1],X2[1]])"
   ]
  },
  {
   "cell_type": "markdown",
   "metadata": {},
   "source": [
    "We could also plot the raw data."
   ]
  },
  {
   "cell_type": "code",
   "execution_count": 338,
   "metadata": {
    "collapsed": false
   },
   "outputs": [
    {
     "data": {
      "image/png": "iVBORw0KGgoAAAANSUhEUgAAAYAAAAEECAYAAAAh5uNxAAAABHNCSVQICAgIfAhkiAAAAAlwSFlz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\nCikAgiAIhUIKgCAIQqH8f0EPOp/8icDPAAAAAElFTkSuQmCC\n",
      "text/plain": [
       "<matplotlib.figure.Figure at 0x1177e4550>"
      ]
     },
     "metadata": {},
     "output_type": "display_data"
    }
   ],
   "source": [
    "for i in range (3):\n",
    "    plt.scatter(X2[index == i][:,0], X2[index == i, :][:,1])"
   ]
  },
  {
   "cell_type": "markdown",
   "metadata": {},
   "source": [
    "Next, we apply all the three algorithms on this dataset and evaluate their performance.\n",
    "  * Basic k-means."
   ]
  },
  {
   "cell_type": "code",
   "execution_count": 358,
   "metadata": {
    "collapsed": false
   },
   "outputs": [
    {
     "data": {
      "text/plain": [
       "<matplotlib.collections.PathCollection at 0x117da3a58>"
      ]
     },
     "execution_count": 358,
     "metadata": {},
     "output_type": "execute_result"
    },
    {
     "data": {
      "image/png": "iVBORw0KGgoAAAANSUhEUgAAAYAAAAEECAYAAAAh5uNxAAAABHNCSVQICAgIfAhkiAAAAAlwSFlz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\nIISQIkUBgBBCitT/B6MkfAHTl55wAAAAAElFTkSuQmCC\n",
      "text/plain": [
       "<matplotlib.figure.Figure at 0x1165713c8>"
      ]
     },
     "metadata": {},
     "output_type": "display_data"
    }
   ],
   "source": [
    "rng.seed(14)\n",
    "random.seed(14)\n",
    "centers,index = K_Means_basic(4,X2,initial_centroid2)\n",
    "cols=iter(['r','y','g','b'])\n",
    "for i in range (4):\n",
    "    plt.scatter(X2[index == i][:,0], X2[index == i, :][:,1], color=next(cols))\n",
    "plt.scatter(centers[:,0], centers[:,1], color='r', marker='x')"
   ]
  },
  {
   "cell_type": "markdown",
   "metadata": {},
   "source": [
    "  * k-means++"
   ]
  },
  {
   "cell_type": "code",
   "execution_count": 359,
   "metadata": {
    "collapsed": false
   },
   "outputs": [
    {
     "data": {
      "text/plain": [
       "<matplotlib.collections.PathCollection at 0x117da3da0>"
      ]
     },
     "execution_count": 359,
     "metadata": {},
     "output_type": "execute_result"
    },
    {
     "data": {
      "image/png": "iVBORw0KGgoAAAANSUhEUgAAAYAAAAEECAYAAAAh5uNxAAAABHNCSVQICAgIfAhkiAAAAAlwSFlz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\nIYSYFAUAQggxqf8PeYl/QRqdqCEAAAAASUVORK5CYII=\n",
      "text/plain": [
       "<matplotlib.figure.Figure at 0x1166e4080>"
      ]
     },
     "metadata": {},
     "output_type": "display_data"
    }
   ],
   "source": [
    "rng.seed(14)\n",
    "random.seed(14)\n",
    "centers,index = K_Means_plusplus(4,X2)\n",
    "cols=iter(['r','y','g','b'])\n",
    "for i in range (4):\n",
    "    plt.scatter(X2[index == i][:,0], X2[index == i, :][:,1], color=next(cols))\n",
    "plt.scatter(centers[:,0], centers[:,1], color='r', marker='x')"
   ]
  },
  {
   "cell_type": "markdown",
   "metadata": {},
   "source": [
    " * scalable k-means++"
   ]
  },
  {
   "cell_type": "code",
   "execution_count": 360,
   "metadata": {
    "collapsed": false
   },
   "outputs": [
    {
     "data": {
      "text/plain": [
       "<matplotlib.collections.PathCollection at 0x1166e46d8>"
      ]
     },
     "execution_count": 360,
     "metadata": {},
     "output_type": "execute_result"
    },
    {
     "data": {
      "image/png": "iVBORw0KGgoAAAANSUhEUgAAAYAAAAEECAYAAAAh5uNxAAAABHNCSVQICAgIfAhkiAAAAAlwSFlz\nAAALEgAACxIB0t1+/AAAIABJREFUeJzt3X90VOWdP/D3ncn8SjLMzA1BCWKpo5Ga0oZqtFRcEKhu\nv0XEk5Dqtk23LMNupablYMt2rZUe6tfNqkcJrfU4FKzQrgvJV6jFRldYyi5SjStZNYpIVpQfAiF3\nJgnJ/Mrc+/1juDdzZ+78vpPMzP28zulpZjL3x1zD87n383ye52EEQRBACCFEc3STfQKEEEImBwUA\nQgjRKAoAhBCiURQACCFEoygAEEKIRlEAIIQQjSpTYye//vWv8dZbb8Fms+Gxxx4DAFy8eBFPPvkk\n+vv7MW3aNKxduxbl5eVqHI4QQogKVHkCuPXWW/HAAw/I3tu9ezfmzJmDTZs2oa6uDi+88EJa++rt\n7VXjlMgldD3VRddTPXQt1ZXN9VQlAMyePRsVFRWy9958800sWLAAALBw4UJ0d3entS/6o1AXXU91\n0fVUD11LdU1aAFAyODgIu90OALDb7RgcHMzXoQghhGRhwjqBGYaZqEMRQghJgyqdwErsdju8Xq/0\n/zabTfFzvb29skeX5ubmfJ2SJtH1VBddT/XQtVRXc3Mzdu7cKb2uq6tDXV1d0m1UCwCCICB6Xrnr\nr78eBw4cwPLly3HgwAHccMMNitspneSZM2fUOi3Ns1qtGB4enuzTKBl0PdVD11JdNTU1GQdVRo3Z\nQDdt2oT33nsPw8PDsNlsaG5uRkNDA5544glcuHAB1dXVWLt2bVxHcSIUANRD/8jURddTPXQt1VVT\nU5PxNqoEALVRAFAP/SNTF11P9dC1VFc2AYBGAhNCiEZRACCEEI2iAEAIIRpFAYAQQjSKAgAhhGgU\nBQBCCNEoCgCEEKJRFAAIIUSjKAAQQohGUQAghBCNogBACCEaRQGAEEI0igIAIYRoFAUAQgjRKAoA\nhBCiURQACCFEoygAEEKIRlEAIIQQjaIAQAghGkUBgBBCNIoCACGEaBQFAEII0aiyyT4Boi6O08Ht\nrgAAuFwjsFon+YQIIQWLAkAJ4TgdGhurcOyYAQDQ1WXGyy8HYDRO8okRQgoSpYBKiNtdITX+AHDs\nmAFPPWVIsgUhRMsoABBCiEZRACghTU2jMBp56bXRyOPuu0OTeEaEkEJGAaCEdHSUIxgc/08aDOrw\n/POUAiKEKKMAUCI4TofDh6m3lxCSPqoCKgGx1T+i2toQ7r03JH0mujyUZfm4/RBCtIUCQAmIrf4B\ngIaGALZu9aCqqgIffxxfHtrZOUBBgBCNoxRQiZo3Lyg18ErloeLTACFEuygAlACXawS1tePVPrW1\nIbhcI5N4RoSQYkApoEuKOUfOsjw6OwcSnr/LNYKuLrP0FEABghACAIwgCMJkn0SsM2fOTOjxYjtR\na2tDRZEjTydoWa1WDA8PF3WAKyTi9SS5o2uprpqamoy3oScAJM6Rr19fuH+cSvP+JApauTb+FDwI\nKU0UAIpUukFrYIDJKVBkEmgIIcWFAgBKL0ce3ZCHw4a4QNHeXokNG4bitlFq6JUCzb/8SyUcjkjm\nkJ4ICCle1AdwSbGlORL1WwCQvV9VxWNgQF7sxbJh/PnP/bLv2NZmRXu7fPGA1tbI00Ts+zqdAJ5n\nZMct9OulFspbq4eupbqy6QOgMtBLWJbH+vXDWL9+uCgaM7Hyp7V1GK2tw1IjHHvHPjCgg9ks/z4c\np097HEBT02jc9mLjD9CYAkKKGaWAVJLvJ4jY/QNI+3g2Gw+/Xx7r/X75Z5TSYE1No1i1io3blhBS\nGigFpIJ8lpFynA7t7ZXo7LSA4/QAALs9DLudx4kT8cdLNC9QdNoGAJzOEHbvlp9jbJBxuyvi0j8A\nYDDwCIV0qn/XYkBpC/XQtVQXlYFOknyVkSZqzL1ePbxefdzxmppGsW6dHRUVPD7/+QDefdckfSa6\n8QeAvj4DbrttKpYu9aO19SJYlpfSYKncffcodQITUgIoABQwpUneEvF4GCxZUi2tB6DTpX6w+/TT\nMrjdldi/3xT3NABEGvcdO8qlJw+RwyEU9BgJQkh6KLmrgnTn4uE4HdrarGhrs4Lj1Lv0tbUhvPuu\nQbYYDM8z0OvTuzPv61PuyGVZHs8+OyDrBBa/W76+CyFk4tATgApSzcUDZDZyVxTbMavT8eD5SGPr\ndIawaFEAFosAl2sEK1c64rYPh3WYMoXH8DADQYikgBhGkH5OheN0uP9+h9QJzLJhbNnCAQANDiOk\nBFAAUEmq/Hk2/QSxgWXJEh82brQBAB5/3AunMyx99vHHvbIUkGhoSP5aEBhZIAGAWbOUn1hiz5nj\n9OjoKJfOP5PvQggpPHkPAGvWrEF5eTkYhoFer8cjjzyS70MWNaVy0vXrh+OeIFatYrFlCyc1yC7X\nCF59tR9//ddTMTqqT7h/ALLGHwBuu81Pd++EaFDeAwDDMHjooYdQWVmZ70MVtGTTTYiNvt8P7Ntn\nRl9ffGpF6QnittuqpfTM9u3lWLrUB51COj467RNbDgoAZjNk5yGeb+w5O50h+HwM/P5IKapYiVTs\nU2eQwqXjOFS43QCAEZcLPMtO8hmVlrwHAEEQUIBDDSZcon6CRKWeQOrUSvQALY9Hj+3bI0G2Bqcx\ninJ44YDRyKM8OIhyjOIMZoDnGVnj7XSOd+oq5fXFcxaDk9stD+QOR6RfgJ4gtGOiGmUdx6GqsRGG\nY8cAAOauLgx0dlIQUJF+w4YNG/J5gD/96U/4y1/+gv379wMArrrqqpTblOrgEItFwPz5QcyfH4TF\nEgmK7e2VeOklS8JteB74+OMyNDWN4tAhEwYGkqd3AECPMB7GA3gNX4FZ8OMXwk/xMv4aflikfYbD\nkacAm43H177mx5o1DrzzjlHax8CAHm++acD583q4XCN4+20jurriz9Pv18FqjXwvLTCZTAgGtfFd\nlYiNsuWll2B6/XWY9u2Df9kyCJbEf8OJmEwmjJ09i8r2dpgOHcLYddfJ9lPZ3g7LSy9Jr/UDAxAM\nBgTnz1flu5QaqzV+0GYqeX8C2LhxIxwOB4aGhrBx40ZcccUVmD17tvT73t5e9Pb2Sq+bm5uz+iLF\naGCAwRtvmBP+3mgU0N1tQne3Ca+8Uo6nnvLhpz9lcPIkg9OnEwcCLxx4AA/jV1gD8MAa/ApejFcJ\nRXcUnzhhwJ13VsPjic8dicf+3e8qcPvtobjfi0wmo2b+mxmNxfNdmYEBGJ56CgAQuvdeCFVVOe/T\n+OST0h05ABiOHYPjuecQfPDBzPc1NITyFSugP3oUAFD+yivw/elP0nkaTab4bUymlNc/H9+7WOzc\nuVP6ua6uDnV1dUk/n/cA4HBEGp4pU6bgxhtvxPHjx2UBQOkkC/kJQK3FVSIpFRP6+uT/CcTyzp4e\nA7q7x/8BHD2qR1OTRUrdGI281JBnUtqpRKnxjzYwoMPzzysPSGPZMFpaPBge1kYKqFimL4hNn+j2\n7FElfWINBBDbLAcDgZTXRCltVLVpk9T4A4D+6FEITzyB4fXrI9u0tKBqzx7pO4Rqa+FpaQGf5Fj5\n+t7FwGq1orm5OaNt8hoAAoEABEGA2WyG3+/H22+/jaampnweMq9yXRwlWb4fABoaAti61QOW5fHz\nn1tlAQCAbPqHYDAyy6ffr7vU+PMQx/XZ4cHDeABr8CsAwMN4AA/gYdlTQDLl5eG4SqLYyiFRY6OP\n8v8FqMLtjrtTr3C7pcY1WyMuF8x798LQ1wcACDmdGHG5km6TKJefCs+yGOjsTNnfEB1cGJ8vL9+7\nVOU1AAwODuLRRx8FwzAIh8O45ZZb8MUvfjGfh8yrXOf8STW1w7x5QakxTeeOXj5L5/jP5RiVNfgP\n4GGUYxSDjF1xv9GdwgBSlpGKamtDaG29mNZniXZVbN6s2CiHvvMdlP3mN9BzkcGFodrauGDCs2zS\nxjs2uIQ1cKevprwGgGnTpuHRRx/N5yFKRmwppdhJnI0zmCF77YUDjGMKBE984+90hrBtG4d16+xx\nTxzRostHWTaMxkafNIkcKTwjLhfMXV2y9EmqO/V0VLjd0t0/ABj6+pLeYev7+lDx3HNx7zM+Hyzf\n/KbU+IcdDnBbtmScqol90tFzHMIOB/QeDwD1vnepopHAGch16Uiluvro6RyiG1OXawR7946PCVAi\nH9ErAFB+aqivD+DGG4N45hl551l0ymnevGDCAKDTCXjuuQtSh3U6fR/FtsJaqUk3fZJPOo7D1OXL\noYtZfCLMshAYRp7/93hQ3tGB4fXr0yozFT9jPHw47nejK1ZIg1to7EBytB5AhtTqBPb5GDCMALM5\n8X7EtQB6egyYPTuE114zSQGBZcNxs3TW1wcAAB99VIbBwcjvrr46jBde6AeApGsWcJwOCxZUx+1T\n1No6nHaqi+N0WL68SjpXpbUHilWxdAKnK9Oa/tiUS6i2VrGTVcdxcKxcCVN3d9w+LrpcECwWWNvb\nZe8Pt7ZixOVKuf/Yc+CNRuguleYmOh8tyGY9AAoAkyDbBWSiK4jeeMOInh75Hfvq1cMwmyELLmvX\nMjAah2TbA8pBp69PjzvvnAqPJz4IZBIAfv5za9zTxurVw3jooeJvOEspAKTbmCttlyxoxO43Gm82\no/+VVyA4HKiOKgEVj13hdisGhugUk7WtLe4zgYYGBOfN0/QdPy0IUySy7UxmWR4u14hiJZHTGZJN\nI+FwhLFnzwVUVZVDbK9STVjndIZx8GA/Nm+uwK5d5VIgyDTVdeSIMa33yOTKtlIoVcds7H6j6fx+\nTL3zToyuWAHf734H4be/BZBhqiZ2PVMAwXnzqNInCxQAioxSJVFDQwD19SHZNA0ejx7Ll0/Ff/+3\nD8YM2l6W5fHQQ8O4776RtFJdSk8V9fWhuP6E+vrEA8mItug9HlifeQbhgwfRv2uXrOGP7bwOOxwY\njSod13EczPv2yfYXcjox2tQEa1ubtA+tPgVkilbymATpLiCTrnnzgopVQxynx1NPpV5RTGlxF/Fp\nQXxiUFr8RUxltbdb0d5uRWNjFThOh9bWi3A6x7+f00nlooVoxOVCqLZWep1pxYyO4yLpmLY26C5V\n8yjtN1Fppv7oUSmVJO6vwu1G4KabELbbI5/xeMCuWiXtP7YKCQACX/oSpi5fDmt7O6zt7ahqbJSd\nD0mMngAmQToLyCTS1DSKp5+ukEYBG408mpoia/Ru316umL9PJtXgtmS/T5bK2r07u+9HJk4ulULJ\nJmqL3e9oUxPYVasSpoWU9hctVWqq/MUXZZVGNPgrffQEMEmi77AzaRw7Osplc/kEgzp0dJSDZXns\n2XMBLDu+SExtbQj33qucehHv+leudCg24qJEjXwm3w9QfoIgk0/M5w+vX59R2iRR/4HSfsNOJwY6\nO3HR5ZI9DYRnz5aeOJL1G0SLfbrgzea4MlOSPnoCyKOJroV3OsP485/7ZcesqqpAbNFKqikpfL70\n5hVKZ1xErtNnkImh9hTP+r4+2NetAwB4H38cYacTQxs24GJr6/i0DWvXgk+jgyrscEiBgmdZcFu2\nYOry5dBznGLjH2ZZGvyVJioDzVC6jXq2pZ6pjpHpfq1WKz7+WN6h63ZXoL098YyK0XX7qY6X6nq0\ntVnjjpVJSWmhKaUyUFEm5aBSoPD7Yd63b3xOoKht9H19qF6yRKrNF3Q69O/ejbHrr5ftw2gyRSZ3\nY9mkKaCLLS0QLvUJjLhciqWiorDDgQt79iDsdGpuMRkqA82zTO5msyn1FAd+dXZapAFZscdIdwF6\n8fff+Q6De+6Rn/PChckfmfv6xs811fFSlZaSwpduOWhcoJg1C4H6esBggPfxx6UG1r5undT4AwDD\n85ja3Izz3d1gPB7p7h0AqrdswYU9eyA4HAgsWAC+vBxlJ05A7/VGjuF0wnTokBRozF1dCCxYoPg9\nwiyLgWefRXlHBxifD6b9+2XbaXWAWDIUADKQ62RwySRKyygdI1mjG7uf3/2Ox8DAeN792DEDFiwI\noLY2JH1GaVRxNHH8gdtdAbe7IqN0Vq7TZ5DCERcoTpyQfma/+134Fy+OTMEQiu930vn9kQVeOjqk\neXqASJXP1GXLwFdVyWYYHW1uBsxmMB4PKrdvHz/msWPwL1yIkNMZVw2k5zhUfec7sv1Hb0cdw/Eo\nAORJpg1fqplC0xW7n+jGX2SxCLK7+qamUaxaxSY811zy+OITxObNFThyxEjjAQqQGhPHGfr6xhvw\nWbMg6HRgePnfh6GnR7Fx1nu90h2/uC//17+OEZcL1bfconzAcFjxbaX9k8SoJCMDmdTviw1fa+sw\nWluHpQZTqeY+GTXumGMrg8Q7eLFKx+kMK56rKNtKoGgHDpjR3W2C210pjRcghUEs2xxubcVwa2vC\nVElsBU4ihhMnMNLYCN48vtpdqLYWwblzMzqvis2bZYEBAMJ2e2TO/6inD+l3SdI7IacT8Pvjxixo\nHT0BZCDT+v3YVE2yO+nYJwaHI4wVK0Zx332ZVQ/F7mf27DCeeeYCOjrKk55zPnP5+UydEXUoTe+g\n1Ikq1ffHdALHEqZPx/nubtn2AGA+cCBluaf4BOJYuTLud2OzZsEQNYuodP56PQaefRaO++8ff5Jx\nOuFfvBiMIMC0fz+szzwTOQfqD5BQAMhQLg1lsoYwl8FhsecXvZ/IZHDhnBpbyuNrT7KBXmKgGP3W\ntyKlnqEQdF6vdFeulEJiLk33HGhoQODLX4bh7bdh6umRfUac0G20qSkSOBT6EkINDRAYJm6WUV04\nDMurryoObLO2tcnXMKD+AAkFgAKi1l14dKftU08Z0NKiy6nuPtfgRAGkcKRbGpmqMkjHcbLRvSGn\nE8OrVwMAGEFAxebNsieEiqefliqDwjYbBn7/e1T98IfQf/ihtH2ovh7w+8G2tEjBJHqVC95gwOgd\nd8Dyxz+CN5mgCwTizjvVRHVEjsYBTKBcxgYU4nEyPadSmBqimMcBZFLvb/35z6WUiSh6WmalKZnH\nLrsMusHBtEbmhmprgdmz4Xc4YHz7bZT97/9CPziYcrswy0olpNEdzcm+i76vT1Z6WqprBtA4gAKn\nVponlULMudN4gcmXSb2/0oybsrSOQiNfdu5cxudk/q//StiPoEQf1YHL8HzKdQDEJ5Vcl54sVRQA\nJhg1hKTQVba3x8+4uWgRAEhTLjM+X9b7F3Q6eJ54ArauLpj+8Ie0t4te61eUah2AuDWDo5aeJBQA\nShLl3ImSdOr9dRwHS2dn3LYCw8jSR8lKLlNheB6Wl1+W1u2NxZeVQTc2FjnHmTPh/9rXALM5blZR\nWvA9dxQASlB0qslkMqKlxVO0OXeinnSmf65wu2VpFiBy580IgvxOmuMSzsQp6HQYaWyEqbtbsV5f\nFLr3Xuj27JEFFd/SpTAdPAiduJ3RiJH77pPOLbBgAfwLFwJmc1rz+6gxyK2UUQAoUWKqKdJpSY0/\nicimSmZ0xQrFu/XRFStg2btXChi82YzQ7NnwtrdDcDhguuMOxf2JjXBFVVVcQKpwu2VBw9DXF6ko\niho/EN2Jm6qqKZc1D7SAqoBKXDFXrRSiUr+esTN58kYj+l99FYLDoVhBBECxcVWqEgIitf6erVsj\n9fkK11Kxumj6dJR9+qnsveHWVoy4XFktal+qqAqIEJKT8o4O2UyeumBQ6jRNdCedyRNFcN68pA10\nbMoGQFzjL0pnrILS+WptmuhkKAAQQtKS7nQR4s/mvXtl1URxpaQJjjHQ2QlHSwtMR44ofkZKIUWt\nQBYr0UhmAAlHOGsRBQBCiCSTTtOU6wLv3o2KzZthPHIEofp6XGxtTdjQxgYSlMU3TWPTp8O3YoUU\naJKda7IlK9MZC6EVFAAI0Silu/dMOk0VG9nNmzH80EMALj0xXPo52TlUtrfD0tkpdSabu7oQuOmm\nuPl+/EuXyhpqcXnI6KUn83EnX8opI+oELnGl3mk50UrlemYyLUQiSh22YYcD/QcPprWfKcEgTLff\nrjg76PDq1fIlJ2fNgv+222Tln8m+g76vD1PvvFMaOBbdaZ3J91bjOk2UbDqB9Rs2bNig/qnkphT+\ngRUKk8mEYFSnHslNqVzPyvZ2WF56SXqtHxiAYDAgOH9+2vsYu+46WP7t36CLGhWs8/vT3k/l5s0w\nvvii4u+CN9+MwUcfhWAwIPSFL6Ds449hefVVmF5/HaZ9++BftgwVbrfidxi77jpUfetbKDt9GsCl\npSJ//3vwM2ZAsFjgX7Ysco433YTBtrakjbnidQqHI+dx6BDGrrsOgsWS8rtOBKs18TrfidCqHISQ\nrPAsC19jo+r7FXP5YqezYLEoTuecSNz0DxyH8o4O2XkPr1+P4fXrs7qTL9+1C9b2dljb21HV2FjU\nC8xQACBEg2JX98p2hOzF1tas9xO6917ZtmGHA8OrV6edYlHrO2RyjDDLyuYjShWMCh11AhOiQWqO\nkA3cdBOY4WGEL78c3k2b0hqhCwCCwkjgREtRKlX7JPoOak7/EHsMxudDZRE3+LGoE7jElUqnZaHQ\n0vVM1YjrOA5Vy5fH1fpz27bFTdqmdFefybXMtBInX5U7hdwpnE0nMAWAEqelBmsiFOP1zKYxTKeh\nSzbdQ2wJZ/RiMtL2l65lsZVZFur50lQQhBCZZIO1km3jWLlyQgZMZXN+k62Ulp2kTmBCSlSyhjzZ\nNlWXpnJOZcTlQsjplL0Xcjox+OCDCDsc4+8lycEnG7FL8o+eAAgpQbF31umKbZBFSo24ON1DZXs7\nDD09CM6di9FvfSuyBOOlSpnwpdG6hXxHr2UUAAgpQZk05KlET+EMxOfAh6LGklrb2hRr8BOlTGjB\nlslFAYAQjYhtyJUoNcixjb+aOXtasGVyUR8AISVIaZBUqsYfGG+Qh1tbMdzaGte4p8rZT8TgLKIe\negIgpATlcmedS5VLpsctxiqgUkLjAEpcMdatFzKtX081B0JZrVbgpz+NG0uQTqqKxKNxAISQvJqI\nnL2puxtVjY30JDABqA+AEJKRXGfTjBbbZyCi8QATgwIAIWTSiE8UgYYGVffL+Tm0dbehrbsNnL94\np2vON0oBEUImFc+y8GzdGte3kG31EOfn0PhiI455I/vqOtGFzjs6wZopnRQr7wGgp6cHzz77LARB\nwK233orly5fn+5CEkCKjZt+C+x231PgDwDHvMbjfcWN9Q2nM36OmvAYAnufxm9/8Bj/72c/gcDjw\nk5/8BA0NDZgxY0Y+D0sIKUJK5aecn4P7nUhQcM1x0V28yvIaAI4fP47p06ejuroaAHDzzTeju7ub\nAgAhJKVsUzmuOS50neiStqu118I1hwajKclrJzDHcaiqqpJesywLrojXzySETJxEqZxUWDOLzjs6\n0Vrfitb6Vsr/JzHpncC9vb3o7e2VXjc3N2e1uj1RZjQa6XqqiK6nelJdS5PRpPheOtffarXiF4t+\nkdP5FaOdO3dKP9fV1aGuri7p5/MaAFiWxYULF6TXHMeBjenYUTpJLY+0VJvWR66qja5n7sS8vslo\nQsu1LQnvzluubcGeY3tkqZyWa1vo+idgtVrR3Nyc0TZ5DQBXX301zp49i/7+fjgcDhw6dAg/+MEP\n8nlIQkgBSNR5G5vX33NsT8IUjZjKSdUJTB3F2cv7XEA9PT3Ytm0bBEHAokWL0ioDpbmA1EN3rOqi\n65labCNfa6+VGvm27ja098jn/mmtb826RDPZsbSmIOcCqq+vx6ZNm/J9GEJIgci2Dj+bO3mq+c/N\npHcCE0KKSzYN9eFPD4PzcwlLNGPv5Le/vx0ralfgvvr7NHk3P1FoOugSRykLdWn9eqaTcon9jEj8\nLIC4TmCl1FCi/Wd6PlqRTQpIv2FD1IKeBULL/8DUZjKZEAwGJ/s0SobWr2f7kXa8dOIl6fWAfwAG\nnQHzZ8wH5+fQfqQdb51/C//Y8I94d+BdnBk5E/fZr37mq5g/Yz6+es1Xoef1AIBDZw7h9bOvxx0v\nev9KLGUWLHMug0FnwE2X34S2W9o02fgDyKo8mVJAhJCceANebDi8AZ0fdoILRAZ6dp3owoIrFqD7\nXHfK7Tk/B4/fAx104MFnfHzWzMI1xwX3O26433HHpaWoSigxCgCEkLS55riw96O96Bvsk9771w/+\nFSE+JPvcMe8xLJy5ELX22qRTMiRKF4lit1FqzJNNGUEzgyZH6wEQQpKKnlsfABbNXCT7fWzjHy3V\nlAyxVTzRGi5rkG0jNubtPe1o72lH44uNUkBINGVEttNJaAU9ARBCEoq9g97x/g58/bNfT2tbX8gH\n1swmLcn0h/2K79faa7H1tq2ygEGNufroCYAQklBso8sFOLz4vy/COcWZctujnqPj2yms0DXgG8C+\nj/fJtjHpTfj27G9jy1e3wP2OO60VvVxzXKi1jy8r6bQ54Rvzoa27DU3XNMl+p/bMoMW+8hg9ARBC\n4oiplcOfHo77nTfoRfO1zbB+akXPhZ6E+5g7ba60L6U8/HMfPIe+oT7ZNoFwAK+deQ2vffqa1M8g\nfj7RGILoKSP8YT/2fbwP7nfd0rZbvroFHR92AFC3E7gU+heoDLTEab1sUW1auJ5iw/bSiZdwZuQM\ndNBBgHy40JemfQkfcB/AE/BI7+kZvfS5WdZZeHLhk7CUWRRLR8f4MXSf7capi6fiju8JeGT7jS4f\nTVTyaSmzYP6M+Xj909fR9XGXbFur0Yr1Desxf8Z8WMos6lwkJC+JnQxUBkoIyVls2ocHD7PODD8f\nydfX2mvBMEzc3XuloRKDwUEAkaeE9iPtaJ3bqniM6JLRTKTqU8iV1kpGKQAQQmQNn2/MF/f7lroW\nmPVmAJBq7mOJjT8QGRvgfteNP5/6Mx77q8ew/f3t0l29w+RI2fhHjwlgTSx8Yz5wfi6vq4FlmtIp\nhZXHaCqIEqf1qQvUVorXM7bhc9qcgADpDj+d6R4cJocsbRPNrDdL1T6sicXSq5biufefS3lec6vn\n4qPBj+ANeiPnNcWJ3XfujmuQ+7x9WHdwHcb4MXy+6vOwGCwQBAGWMktGd/HZzFRaSE8MBTkbKCGk\nsMWmfPoG4L3OAAAXr0lEQVQG+7B6zmp8XR8p91Rq2GLn6m+6pgmr/n2VYk1/dKknF+BgLjPLBog5\npzgxEBiAN+CVbSdAkBp/IBKQ2o+0Y8O8DePvefuwpHMJgnykX+ZI/xEAEzcnUL5TUvlGAYAQEses\nN0sNm1jqCMiDQWzj13lHJ1q6WqRGOJkFVywAa2HxhalfwH3198Hj9+DOP9wpPUXU2msBhdxET7+8\n6mjdwXVS4x8tm2mhSyGlkykKAIRoXLKGL9U0C9FPAB0fdqBMl7xJcdqcePd/XsZ7gY/htQCcj8MP\nPtuCa/hyHGw+KEunbO7ZHFdmOnfaXNlxQ+HEo5Azle4KZKWE+gBKXCnmrCdTqV7PRLnsRHlx1xyX\nLDAYdUbpTjz6Z5EOOnxz9jdhLjNjV7cbD+8DHlgc+Z37cDXeXH0XvjVPPvd/n7cPy/YsG+8DsDmx\n7bZt+O4r35XGCMysnImzo2fjpqPQ4rTQ1AdACMmYGitxRTf4QT4IA2NASBhvlHnwcJgdAACvJdL4\n/2pv5Heur/fDe/wZvHDhgDRoyzfmw/6T+6XGnzWx2HbbNuw4ukM2Ed3Jiyex7LPL0H2uG7zA469m\n/BWmV07XxN27GigAEKJhqUofE6WH2o/EL94SLbrxj9Z0TRO2v78dgi++YuiY95isH0B2ngEOHR92\n4Mj5+P6Flz95GYFwAADwPxf+Bz+b9zNq/NNEcwERomGpJlgT8+KxM3oyDJPRcewmO/af3I9lf1gG\nwevBw/uA++80Y83XgYf3AfZLQw8SlZICkWUlP8d+Lu59sfEXz39zz+aMzk3L6AmAEJKUUqmjOCgs\nHSadCd6AVyrzrAlFUkBegx86gw4PLOZRHgKGLMkXhOk+1w3Ox8FmsGEwNJjwc7uO7aK1hNNETwCE\naFjsTJrplj7GbmfUGRU/x4BBgA/I3jszJdIPAET6BryWyHs8eLCm8UbbOcWJ+qn1sm37hvrwWdtn\nk56bJ+ChaaLTRE8AhGiU2Pm74IoFWDhzIcx6c9qdp9Elk74xHwLhAN7n3od/zI93Bt6RPhc7iVy0\nKnMVBvwDsvcar2kEwzA4cv4I6qsjjX9sKWjD5Q0YHRuVUld2o102YAyIPAU0XdMEpz31tNVaRmWg\nJS5V2WI4zIHjIndLLOuCXk+PzckUexmo2OiLVTZiRU22ZZOxnchKjXEsm8GGb8z+Bv7++r/HPbvv\nkXUwb/nqFtmI4kTTUgBIOQrZoDNgX+M+zQSBbMpAKQCUuGQNVjjM4eTJRgSDl2q5jbWYObOTgkAS\nxRwAUq2/m2reGyVK4wRSEef0+Uz1Z/Bx/8dSQBLv/GMXkl89Z7VsIjqlIMX5OSzpWIJzvnOy9+dW\nz8Ufl/8xo/MrVjQOgKRFvOv3+Q5LjT8ABIPHwHFuVFcX79wmJLFk6+9Gy/cEZ+KcPo/f9jhYMxs3\nqCxW9LQUibBmFjomvkvz7MhZVc65VFEnsMaId/0eTzv8/u7UGxBNEDt/Ey28nkjccoxTnJG0TQqd\nH3ZiwBfJ/ycLTIk6pZWWYlxy5ZK4zym9R8bRE0AJC4c5nD79JAKBgJTf5zi37K4/mtFYC5Yt7cmv\ntCx2UJdzihOLP7NY1vnb1t2mOC4g0R240qygO47uAHueRYgPxU3eJuICHJ7676fwwy/+UPH3DZc1\nYN70eYpPIIkGr/244cf4z1P/iRMXTwAAZlXOwo8bfpz+BdIgCgAlKja/PzLShZkzOxU/azY3wGKZ\nR53AJS5fk52J4wRiG+bokk4lo2Oj0nnEjjbeetvWhOeWaPDa+ob1ePGuFzU1mVuuKACUqNg7fTG/\nz7IujIx0yTp+Z8zYCr2eRTjMob8/Mu0vBYPSlGr++lymRI5tmLkAB5vRJlspLNrLH72Mf6j7h7hF\n3QVBgPsdd1YNePT3SzSNNRlHAUBj9HoWM2d2xpV+JnpioCCgLWo/JVxluyrh+gDHPcelO3elzmCl\nJRk5PwffmA+siZWWlVQKUpku76hV1Alc4MS78v7+NoTD6S+izbIuGI3jnXMGgxOC4Jfu8Kur16O6\ner3UwCd6YiDaI95Fiw1zupRGFTdc3pDWtpyfw8pXViadl0hs1N3vusEFODhMDqyes1qxYU81xxGJ\noCeAApbLXbl4pz8y8hx8Pi9GRv4dXu8zAICLF/fiyit30909UcT5OWzu2SyNxm2d25rx6GAA0l35\ngZMHFNcNqDJXwTfmQ5+3L+FyktFiG3VPwAOz3kx39TmgAFDAlO7KT59eKeXs0+X3v4mxsRPS61Co\nDwMDmzFt2kPSe0p9A1QRpD2cn8PyPyyXRgh3n+vG/k/2Ky7GrkSpj0GpSmjXsV0Y8A/A/a4bnR92\nSumcaLksyajF5R2zQQGgyPj93Th5sjHlk0Ds00P8fuR52UR9A8n2T1NIlB73O27ZgitAZOBWpuvr\nRovtmD1y/ohs2melxr/hsoa4SqBMGnUtLu+YDQoABSz2rlyUzojdZPX+AGAy1ce9p9ezYFkXOM4t\nVQwpNezUYUxEmYwaTjYVhcPkkC0ILzb+sesOL5y5EDaTLa3UVKqKJ0IBoKCJd+WnT69UddRuWdks\nMAyD8+d/DkEQoNNZYLM1wevdgaGhXeD5yD/ERA17og7j2IBETwnFxzXHhb0f7ZU9BTinOBOOxs2k\n0ibRiF/nFCe23b4NHR92SOcgNv7R+3/67ael/oPBwCBa57bm9mUJBYBCkaix1OtZzJixNW7StlT5\n+dinh7KyWdDr7ZeO5ZU6hEUez9MA5At55zI3ED0lFCfWzGL3st1pdQInG5CVicWfWQyn3Rm3XbJ1\nh7M9FpGjADAJYht7AAlH7Yqfq6nZgsHByB2SzdaU8s46ugrI7x/EyMg+BALKw/Ijgkl+J5dOh3G6\nTwmk8LBmFg99+aHUH8yQa44LO97fEZfzz2R1MaIuCgATTOnOuLx8YVxjeerUt8HzwwiF+qTP1dRs\ngcezHZ98shw8z0nvi3fWYmAZG/MgGHwXDFMGp/NpnDnzW2k/mUj0pJFphzEpTZlW2ohPF9ELvyfb\nJnb/0SWkVNWjDloPYIL197fB45HPn242N6SV49fpHFJ+PprD0QqWdSlW/TCMEZWV38Dw8PYUezdC\nfArQ6VhYrY2YOrU164a9VNcaKOb1APIhm6mjxW1MRhNarm1J2XEc3Qkc209AxtGCMEVAKQDYbC74\nfH9OWrWTjMMR6QyL3a/IZJoLnh+KewrQ6eyoqLgDZWUO2GxNUopJrTv6UuwEpgCgHrqW6qIFYYqA\nUv586tRWAK1Jq310OlZK+0QT0zTZTNvA816EQkcxbVpkYJna+fl87JMQoh6aC2iCiflzh6MVNpsL\n5eULpcZ7xoytMBjki2nodHbY7atx5ZW7ZXP76HQO2O2rpbRK7Nw/IoYxwmj8fMI+AL+/Gx99dAuC\nwcz7CAghxY2eAPJMKQ0iNthKlT8VFYvh9Y43xjzvBcOYYTQ6k3a8RnfMKnUCJ8PzXnzyyTJceeUf\n4tJApZjGIYREUADIo2S18InKJBkmviQuehZPpUY4GOzD2bPrAACXX/44jEan1HAPDDwPm60JFy/u\nTVoJFAkCd8oGgdXUbMGZM6uolp+QEkUBII+yqYVXGsA1OPhvEITIohqDgztQWbkUDGOCTmdBZeUS\nnDzZCCAEADhxYjFmzuzEuXP3R/Uz7IHZ/JWUpaDRFUbB4DGcPbuOavkJKWF5CwC7du3Cvn37YLPZ\nAAD33HMP6uvj558pVeEwB5/vcMLfJxpMFZ3KEQQ/Bgd3So0/APA8h6Gh56TXkRG8oag9h3D69N+B\n5/uld4LBY9DpbKp9N0JIacjrE8DSpUuxdOnSfB6iICWaiTN6YFWywVRi9Uxkrh5viqPFj+AtO9cP\n3gyMWS+9HgaswVqEKzjpKYBhpkAQhmTb6XQ28PzgpZ/tqK5+MOZJgqaIJqSU5LUKqACHGEwIpZk4\nzeaGuPy52BksbhO94lc4zGFoaFdWx+fNwGe3RBr+smHgqt+YYL3sb2Sf0etZlJXNkm/HX4z62Yuz\nZ9eipmYLHI5WOBytaU1BnWr1snRXOMt2JTRCSPry+gTQ1dWFgwcPwul0oqWlBeXl5fk8XMETp1gW\nf+Z5H0ZH98umexDnADp9eqXiqN9YZWWzMDY2ACAyoIZhpmDMOoSPVgHXPBn5zLmffQMCXpb1AYyN\nnYDJVI+xsei9hWX7DoX64PXukC0cAyhXNqUz+Vu6E8TRRHKETIycRgJv3LgRg4Pj+WlBEMAwDO6+\n+27U1tbCarWCYRg8//zz8Hg8+N73vhe3j97eXvT29kqvm5ubi3504NjYAD744Gvw+48CiNTiC0Ik\nVWMyXQNAQCBwXHHbadPWYGhon7RtIuXl16Oy8ssYHHwFgcCHl94tg92+DD7fOwhf+BDXPAnoy6ag\n7OmDOONz4/z5X8n2UVHxZYyM/CXpcXQ6B+bMeQtlZVWK381sno1rr/0Tzp17CmfPPirb9vLLf4QZ\nMx6UXp8+vTHlZzL53GQwGo0IBtOfOI8kRtdSXVarFTt37pRe19XVoa6uLuk2OT0BPPhgev8gFy9e\njLa2NsXfKZ1ksQcAwIgZM3aB49zw+Q7LRveON9bKhobeSNn4AwDDXIVgMBSzvzF4vf8PhotTcPW2\nqTj3s/+DmprvYmz938D7nVNAxfgnDQYnqqv/BaHQqqh0lQHyDuVIZdCJE/8Xl122AQDQ3/+E7Pz8\n/qP44INmmM1z484xEAjI/lsGAoGUn8nkc5OBpi9QD11LdVmtVjQ3N2e0Td76ALze8c7L119/HTNn\nzszXoQqS2JFrscxLexujsRYGw2ylvcW9MzKyC0NDOxU+CzC+IRz/7gV4mT/gWP/f4ei33wNG5R2+\n5eWLpMFl0Tl+pT+Jixf/mDQX7/d3Y2Rkn2wUs1KHcexo5USdyul+jhCSm7xNBvfLX/4SJ06cAMMw\nqK6uxurVq2G329PatpQmg4vNZ4uNpJiPNxicqKhYDIYxw2ZrwunT35Xl6svKZkGnsyIYfCfBEcoA\njCX4XWIOR2tcPb/SRHXRjMbauMFh0Ww2F3Q6C4DEo4bTHVlcqCOQ6a5VPXQt1UWzgRYopQVglBo3\npQZYp7OD51OVgmYm0dTMqQIAMD71tNLEdUpBpdRQo6UeupbqotlAC5TSrJjpNpRqNv6p5vmPX4Te\nDMAf97lsl6kkhBQWCgAFJLYBVpoC2mSai7GxswiHP5W9n2i6aJ3OgSlTVoBhzHGpFKU0S/TgtMg0\nE00YH2xmhM3WBIBWBSOkFFAKqMBEN8o2W5Ms3y6mbgDE3X3X1GyB17sDQ0O7pPEDOh2Lz33u3xEK\nXa54nFQrdimlhLSQ5kmG0hbqoWupLkoBlYDYdFGiu2yl96dNewhVVffJ3jebP4NQKP4fGS3aTgih\nAFDgEq2qlen72Ug0YR0hpDRQAChi6VYXKYmsAbxdShcpNe5q5/kLtbSTEK2iAJBnuTZ6ibaPzeFf\nvLgXABTmFbIq7vPMmVWyvoKami2K56bWEwXN70NI4aEAkEdKjbQ46CudYJDJimKxi72IOX27/Rdx\n+43dluc5DA525DX/T30OhBQeCgB5pNRIi+v9JpsJU7zjFwR/QTWalMIhpLRQAJgkSo157B2/TudI\nuH1sB23sFBPJOmyz6dzNNYVDHcqEFB4KAHkUP7I2ufjUjEc2wCvVimLiPsTXiRrnbDp3c03h0MAx\nQgoPBYA8im70Yhd/SfcO2GptTDjBWrIpJsQVtYaGTKioaIlrbNPt3BXTPsnWN06XmiWqhJDc0Ujg\nCZQqh57O6Nx0j5OP/QBGiNNCZLvPYkejV9VD11JdNBK4wKW6A1YrTaKUrjl9eiVmzNia0f7i1zYO\nwmxugMUyj1I4hJQACgAFJts0SfTTBc/74n7v93fj5MnGnO/aLZZ5lMYhpETkbUUwMnHEVI3H0w6P\npx2jo/tlq3OJxI7bdNHKXISUNnoCKAFK4w3s9tXw+9m4RVsyQZU7hJQ2CgAlimHMmDFjK06fXiEt\n4p7NHXx0SkqsLAIoGBBSCigAlIBEg6z0ehbXXvsnfPLJE9Lnsm20laa1KC9fBJ3OQsGAkCJFAaAE\nJEvVlJVVqdJpq5RmGhxMPq0FIaSwUQAoEZM5yGqy5ygihGSHqoBIWmIrggghxY+eAEhaotNMguDH\nyMi+jKe1IIQUFgoAJG3yiqD7qDyUkCJHAaBAFfrc+zSxGyHFjwJAAaLlEwkhE4E6gQtQorn3CSFE\nTRQACCFEoygAFCCahI0QMhGoD6AA0SRshJCJQAGgQFGVDSEk3ygFRAghGkUBgBBCNIoCACGEaBQF\nAEII0SgKAIQQolEUAAghRKMoABBCiEZRACCEEI2iAEAIIRpFAYAQQjSKAgAhhGgUBQBCCNEoCgCE\nEKJRFAAIIUSjKAAQQohG5bQewF/+8hfs2rULp06dwiOPPIKrrrpK+t0LL7yA//iP/4Ber8ff/u3f\n4otf/GLOJ0sIIUQ9OT0BXHnllbj//vtx3XXXyd4/deoUDh8+jCeeeAI/+clPsGXLFgiCkNOJEkII\nUVdOAaCmpgbTp0+Pe//NN9/EV77yFej1ekybNg3Tp0/H8ePHczkUIYQQleWlD4DjOEydOlV6zbIs\nOI7Lx6EIIYRkKWUfwMaNGzE4OCi9FgQBDMPg7rvvxg033JDXkyOEEJI/KQPAgw8+mPFOWZbFhQsX\npNcDAwNgWVbxs729vejt7ZVeNzc3o6amJuNjksSsVutkn0JJoeupHrqW6tq5c6f0c11dHerq6pJ+\nPi8poBtuuAGvvfYaxsbGcP78eZw9exZXX3214mfr6urQ3Nws/S/6C5Dc0fVUF11P9dC1VNfOnTtl\nbWmqxh/IsQz0jTfewLZt2zA0NIR//ud/xqxZs/BP//RPuOKKKzBv3jysXbsWZWVlWLVqFRiGyeVQ\nhBBCVJZTALjxxhtx4403Kv7urrvuwl133ZXL7gkhhORRwY0ETuexhaSPrqe66Hqqh66lurK5noxA\nI7QIIUSTCu4JgBBCyMSgAEAIIRqVUyewmmhiufzZtWsX9u3bB5vNBgC45557UF9fP8lnVVx6enrw\n7LPPQhAE3HrrrVi+fPlkn1JRW7NmDcrLy8EwDPR6PR555JHJPqWi8utf/xpvvfUWbDYbHnvsMQDA\nxYsX8eSTT6K/vx/Tpk3D2rVrUV5ennxHQoE4ffq0cObMGWHDhg1CX1+f9P7JkyeFH/3oR8LY2Jhw\n7tw54fvf/77A8/wknmnx2blzp/Diiy9O9mkUrXA4LHz/+98Xzp8/L4RCIeH+++8XTp06NdmnVdTW\nrFkjDA8PT/ZpFK33339f+Oijj4R169ZJ723fvl3YvXu3IAiC8MILLwg7duxIuZ+CSQHRxHL5JVBf\nf9aOHz+O6dOno7q6GmVlZbj55pvR3d092adV1ARBoL/JHMyePRsVFRWy9958800sWLAAALBw4cK0\n/kYLJgWUCMdxqK2tlV7TxHLZ6erqwsGDB+F0OtHS0pL60ZBIOI5DVVWV9JplWboJyRHDMPjFL34B\nnU6HxYsXY8mSJZN9SkVvcHAQdrsdAGC322VzuCUyoQGAJpbLn2TX9vbbb0dTUxMYhsHzzz+P3/72\nt/je9743iWdLtG7jxo1wOBwYGhrCxo0bccUVV2D27NmTfVolJZ3ZFyY0AOR7YjktS/faLl68GG1t\nbXk+m9IS+zfIcRz9DebI4XAAAKZMmYIbb7wRx48fpwCQI7vdDq/XK/2/WPSRTMH0ASSSycRyRJnX\n65V+fv311zFz5sxJPJvic/XVV+Ps2bPo7+/H2NgYDh06RE+sOQgEAvD7/QAAv9+Pt99+m/4msxDb\nj3L99dfjwIEDAIADBw6k9TdaMCOBoyeWq6iokCaWAyJloPv370dZWRmVgWbhl7/8JU6cOAGGYVBd\nXY3Vq1dLuUKSnp6eHmzbtg2CIGDRokVUBpqD8+fP49FHHwXDMAiHw7jlllvoemZo06ZNeO+99zA8\nPAybzYbm5mY0NDTgiSeewIULF1BdXY21a9fGdRTHKpgAQAghZGIVfAqIEEJIflAAIIQQjaIAQAgh\nGkUBgBBCNIoCACGEaBQFAEII0SgKAIQQolEUAAghRKP+P+gahtKaabtCAAAAAElFTkSuQmCC\n",
      "text/plain": [
       "<matplotlib.figure.Figure at 0x1176fd2e8>"
      ]
     },
     "metadata": {},
     "output_type": "display_data"
    }
   ],
   "source": [
    "rng.seed(14)\n",
    "random.seed(14)\n",
    "centers,index = Scalable_K_Means(4,2,X2)\n",
    "cols=iter(['r','y','g','b'])\n",
    "for i in range (4):\n",
    "    plt.scatter(X2[index == i][:,0], X2[index == i, :][:,1], color=next(cols))\n",
    "plt.scatter(centers[:,0], centers[:,1], color='r', marker='x')"
   ]
  },
  {
   "cell_type": "markdown",
   "metadata": {},
   "source": [
    "Based on this simulation case, the basic k-means algorithm sometimes gives us unreasonable results. This is because the random initialization, which may not be optimal in many cases. The other two algorithms, on the other hand, choose the initial cluster centers in a systematic way. Therefore, the clustering results are always reasonable."
   ]
  },
  {
   "cell_type": "markdown",
   "metadata": {},
   "source": [
    "4. Optimization with Cython and Vectorization\n",
    "----"
   ]
  },
  {
   "cell_type": "code",
   "execution_count": 14,
   "metadata": {
    "collapsed": false
   },
   "outputs": [],
   "source": [
    "from numba import jit"
   ]
  },
  {
   "cell_type": "code",
   "execution_count": 15,
   "metadata": {
    "collapsed": false
   },
   "outputs": [],
   "source": [
    "@jit\n",
    "def K_Means_basic_vect(k,DATA, centroids,advanced = False):\n",
    "    \n",
    "    if not advanced:\n",
    "        centroids = DATA[np.random.choice(range(DATA.shape[0]),k), :]\n",
    "    data_ex = DATA[:, np.newaxis, :]\n",
    "    new_centroids = np.empty(centroids.shape)\n",
    "    distance_arr = np.sum((data_ex -centroids)**2, axis=2)\n",
    "    min_location = np.zeros(distance_arr.shape)\n",
    "    min_location2 = np.ones(distance_arr.shape)\n",
    "    count =0\n",
    "    while not np.array_equal(min_location2,min_location) :\n",
    "        min_location2 = min_location.copy()\n",
    "        distance_arr = np.sum((data_ex -centroids)**2, axis=2)\n",
    "        min_location = np.zeros(distance_arr.shape)\n",
    "        min_location[range(distance_arr.shape[0]), np.argmin(distance_arr, axis=1)] = 1\n",
    "        for ijy in range(0, k):\n",
    "            new_centroids[ijy] = np.mean(DATA[min_location[:, ijy] == True, :], axis=0)\n",
    "        count = count + 1\n",
    "        centroids = new_centroids.copy()\n",
    "    return new_centroids,count\n",
    "\n",
    "def K_Means_plusplus_vect(k,DATA):\n",
    "    centroids = DATA[np.random.choice(range(DATA.shape[0]),1), :]\n",
    "    prod_data = DATA[:, np.newaxis, :]\n",
    "    while len(centroids) < k:\n",
    "        euclidean_dist = (prod_data - centroids) ** 2\n",
    "        distance_arr = np.sum(euclidean_dist, axis=2)\n",
    "        min_location = np.zeros(distance_arr.shape)\n",
    "        min_location[range(distance_arr.shape[0]), np.argmin(distance_arr, axis=1)] = 1\n",
    "        phi = np.sum(distance_arr[min_location == True])\n",
    "        # calculate the probability distribution\n",
    "        prob_dist = np.min(distance_arr, axis=1)/phi\n",
    "        # select the next centroid using the probability distribution calculated before\n",
    "        centroids = np.vstack([centroids, DATA[np.random.choice(range(DATA.shape[0]),1, p = prob_dist),:]])\n",
    "    return K_Means_basic_vect(k,DATA,centroids,True)"
   ]
  },
  {
   "cell_type": "code",
   "execution_count": 16,
   "metadata": {
    "collapsed": false
   },
   "outputs": [
    {
     "name": "stdout",
     "output_type": "stream",
     "text": [
      "CPU times: user 816 ms, sys: 14.8 ms, total: 831 ms\n",
      "Wall time: 834 ms\n"
     ]
    }
   ],
   "source": [
    "%%time\n",
    "res=K_Means_basic_vect(5,X,initial_centroid2)"
   ]
  },
  {
   "cell_type": "code",
<<<<<<< HEAD
   "execution_count": 17,
   "metadata": {
    "collapsed": false
   },
   "outputs": [
    {
     "name": "stdout",
     "output_type": "stream",
     "text": [
      "CPU times: user 2.61 ms, sys: 795 µs, total: 3.4 ms\n",
      "Wall time: 2.63 ms\n"
     ]
    }
   ],
=======
   "execution_count": null,
   "metadata": {
    "collapsed": false
   },
   "outputs": [],
>>>>>>> f2fb51e80adbdb00515ac8c85099f3e7ed8914f0
   "source": [
    "%%time\n",
    "res=K_Means_plusplus_vect(5,X)"
   ]
  },
  {
   "cell_type": "code",
   "execution_count": 18,
   "metadata": {
    "collapsed": false
   },
   "outputs": [],
   "source": []
  },
  {
   "cell_type": "code",
   "execution_count": null,
   "metadata": {
    "collapsed": true
   },
   "outputs": [],
   "source": []
  }
 ],
 "metadata": {
  "kernelspec": {
   "display_name": "Python 3",
   "language": "python",
   "name": "python3"
  },
  "language_info": {
   "codemirror_mode": {
    "name": "ipython",
    "version": 3
   },
   "file_extension": ".py",
   "mimetype": "text/x-python",
   "name": "python",
   "nbconvert_exporter": "python",
   "pygments_lexer": "ipython3",
   "version": "3.5.1"
  }
 },
 "nbformat": 4,
 "nbformat_minor": 0
}

{
 "cells": [
  {
   "cell_type": "markdown",
   "metadata": {},
   "source": [
    "<center> Scalable K-means++</center>\n",
    " ====\n",
    "<center> Bai Li, Jialiang Mao </center>\n",
    "----"
   ]
  },
  {
   "cell_type": "markdown",
   "metadata": {},
   "source": [
    "Abstract\n",
    "----\n",
    "K-means algorithm is one of the most popular clustering algorithm. A crucial part of k-means algorithm is the choice of initial centers while a poor initial centers may lead to locally optimal solution. To beat this, the k-means++ initialization is proposed to obtain an initial set of centers that is close to the global optimum solution. However, because of its sequential nature, the k-means++ is not scalable. The paper introduces a scalable k-means++ algorithm by reducing the number of passes needed to obtain a good initialization. \n"
   ]
  },
  {
   "cell_type": "markdown",
   "metadata": {},
   "source": [
    "1. Outline\n",
    "----\n",
    "\n",
    "In this project, we implement this algorithm and test its performance with simulation studies. We also try multiple ways to improve its performace including Cython, vectorization and finally parallelization.\n",
    "\n",
    "The outline of our project is listed:\n",
    "  * Implement the basic version of k-means algorithm\n",
    "  * Implement k-means++ and scalable k-means initialization based on basic k-means.\n",
    "  * Simulate data that come from prespecified clusters and test our algorithms for both correctness and efficiency.\n",
    "  * Optimize the algorithms with Cython. We implement the most ineffcient part (mostly for loops) with Cython and test its performance.\n",
    "  * Optimize the algorithms with vectorization. We replace for loops with vectorization to improve the efficiency."
   ]
  },
  {
   "cell_type": "markdown",
   "metadata": {},
   "source": [
    "2. Implementation\n",
    "----\n",
    "\n",
    "In this section, we implement basic k-means, k-means++ and scalable k-means++. Note we also leave interfaces for cython so we can improve the performance later. "
   ]
  },
  {
   "cell_type": "markdown",
   "metadata": {},
   "source": [
    "Firstly, we implement the basic k-means algorithm, which is the foundation of other k-means algorithms. To begin with, we define some measures that appear in the k-means algorithm."
   ]
  },
  {
   "cell_type": "code",
   "execution_count": 23,
   "metadata": {
    "collapsed": true
   },
   "outputs": [],
   "source": [
    "import os\n",
    "import sys\n",
    "import matplotlib.pyplot as plt\n",
    "import numpy as np\n",
    "import pandas as pd\n",
    "import scipy.linalg as la\n",
    "import time\n",
    "import random\n",
    "from random import randint\n",
    "%matplotlib inline\n",
    "%precision 5\n",
    "plt.style.use('ggplot')\n",
    "import numpy.random as rng"
   ]
  },
  {
   "cell_type": "code",
   "execution_count": 24,
   "metadata": {
    "collapsed": false
   },
   "outputs": [],
   "source": [
    "def squared_euclidean_norm(u, axis=-1):\n",
    "    \"\"\"\n",
    "    Calculate the squared Euclidean norm.\n",
    "    \"\"\"\n",
    "    return((u**2).sum(axis))\n",
    "\n",
    "def euclidean_norm(u, axis=-1):\n",
    "    \"\"\"\n",
    "    Calculate the Euclidean norm.\n",
    "    \"\"\"\n",
    "    return np.sqrt(squared_euclidean_norm(u, axis))\n",
    "\n",
    "def squared_euclidean_dist(u, v, axis=-1):\n",
    "    \"\"\"\n",
    "    Calculate squared Euclidean distance between two vectors.\n",
    "    \"\"\"\n",
    "    return squared_euclidean_norm(u-v, axis)\n",
    "\n",
    "def min_squared_euclidean_dist(u, v, axis=-1):\n",
    "    \"\"\"\n",
    "    Calculate the minimum of Euclidean distance between a list of vectors and a vector v.\n",
    "    \"\"\"\n",
    "    distMin = squared_euclidean_dist(u[0],v)\n",
    "    for i in range(0,len(u)):\n",
    "        distMin = np.minimum(squared_euclidean_dist(u[i],v),distMin)\n",
    "    return distMin\n",
    "\n",
    "def euclidean_dist(u, v, axis=-1):\n",
    "    \"\"\"\n",
    "    Calculate Euclidean distacne between two vectors.\n",
    "    \"\"\"\n",
    "    return np.sqrt(squared_euclidean_dist(u, v, axis))"
   ]
  },
  {
   "cell_type": "markdown",
   "metadata": {},
   "source": [
    "Next, we define the function to implement the k-means algorithm. Here we also create an interface to allow future speed-up with Cython."
   ]
  },
  {
   "cell_type": "code",
   "execution_count": 25,
   "metadata": {
    "collapsed": false
   },
   "outputs": [],
   "source": [
    "def kMeans(k,df, initial,embedded = False, speedUp =False):\n",
    "    \"\"\"\n",
    "    Implement the basic version of k-means algorithm.\n",
    "    \n",
    "    Parameters\n",
    "    ----------\n",
    "    k : the number of clusters\n",
    "    \n",
    "    df : the data we apply k-means to\n",
    "    \n",
    "    initial : the initial guess for the centroids\n",
    "    \n",
    "    embedded : logic value, if it is True, we use initial as start points, \n",
    "    otherwise, use random samples from the data\n",
    "    \n",
    "    speedUp : logic value, it it is True, we run loops with Cython\n",
    "    \n",
    "    Returns\n",
    "    ----------\n",
    "    newCentroid: the final centroids for each cluster\n",
    "    \n",
    "    clusterNo1: indicate data belong to which cluster\n",
    "    \"\"\"\n",
    "    newCentroid = initial\n",
    "    if(embedded) :\n",
    "        pass\n",
    "    else:\n",
    "        newCentroid = df[np.random.choice(range(df.shape[0]),k), :]   \n",
    "    tmp1, tmp2 = 0,0\n",
    "    clusterNo1,clusterNo2 = np.ones(len(df)),np.zeros(len(df))\n",
    "    while(np.array_equal(clusterNo1,clusterNo2)==False) : \n",
    "        clusterNo2=clusterNo1.copy()\n",
    "        for i in range(0,len(df)):\n",
    "            tmp1 = tmp1 + 1\n",
    "            if(speedUp==True):\n",
    "                distance = euclidean_dist_cython(newCentroid,df[i])\n",
    "            else:\n",
    "                distance = euclidean_dist(newCentroid,df[i]) \n",
    "            clusterNo1[i] = min(np.asarray(np.where(distance[:]==min(distance))))[0]\n",
    "        for j in range(0,k):\n",
    "            newCentroid[j] = np.mean(df[np.where(clusterNo1[:]==j)][:,0:len(df[0])], axis=0)\n",
    "        tmp2 = tmp2 + 1\n",
    "    return newCentroid,clusterNo1"
   ]
  },
  {
   "cell_type": "markdown",
   "metadata": {},
   "source": [
    "With the algorithm that implement the basic k-means algorithm, we can now define the k-means++ algorithm. Instead of randomly select initial cluster centers, we only select the first initial cluser center randomly and choose other initial centers in a sequential way. Specifically, given current initial centers, we choose the next initial center so that its far from current centers."
   ]
  },
  {
   "cell_type": "code",
   "execution_count": 26,
   "metadata": {
    "collapsed": true
   },
   "outputs": [],
   "source": [
    "def kMeansPlusPlus(k,df,speedUp = False):\n",
    "    \"\"\"\n",
    "    Perform k-means++ algorithm to obtain optimized initial guess for the centroids.\n",
    "    \n",
    "    Parameters\n",
    "    ----------\n",
    "    k : the number of clusters\n",
    "    \n",
    "    df : the data we apply k-means to\n",
    "    \n",
    "    speedUp : logic value, it it is True, we run loops with Cython\n",
    "    \n",
    "    Returns\n",
    "    ----------\n",
    "    newCentroid: the final centroids for each cluster\n",
    "    \n",
    "    clusterNo1: indicate data belong to which cluster\n",
    "    \"\"\"\n",
    "    center = []\n",
    "    center.append(df[randint(0,len(df))])\n",
    "    phi = squared_euclidean_dist(center[0],df)\n",
    "    px = phi/sum(phi)\n",
    "    cluster2 = []\n",
    "    while len(center) < k:\n",
    "        sample = np.random.multinomial(1,px).tolist()\n",
    "        center.append(df[sample.index(max(sample))])\n",
    "        phi = min_squared_euclidean_dist(center,df)\n",
    "        px = phi/sum(phi)\n",
    "    return kMeans(k,df,np.array(center),True,speedUp)"
   ]
  },
  {
   "cell_type": "markdown",
   "metadata": {},
   "source": [
    "The k-means++ algorithm gives a way to systematically select a collection of initial cluster centers. However, the sequential nature behind this initialization makes it hard for us to run this algoriehm in parallel. Therefore, we then implement the scalable k-means++ algorithm, which could be viewed as a combination of the basic random initialization and the sequential initialization."
   ]
  },
  {
   "cell_type": "code",
   "execution_count": 27,
   "metadata": {
    "collapsed": true
   },
   "outputs": [],
   "source": [
    "def scalableKMeans(k,l,df,speedUp=False):\n",
    "    \"\"\"\n",
    "    Perform scalable k-means algorithm to obtain optimized initial guess for the centroids.\n",
    "    \n",
    "    Parameters\n",
    "    ----------\n",
    "    k : the number of clusters\n",
    "    \n",
    "    l : oversample factor\n",
    "    \n",
    "    df : the data we apply k-means to\n",
    "    \n",
    "    speedUp : logic value, it it is True, we run loops with Cython\n",
    "    \n",
    "    Returns\n",
    "    ----------\n",
    "    newCentroid: the final centroids for each cluster\n",
    "    \n",
    "    clusterNo1: indicate data belong to which cluster\n",
    "    \"\"\"\n",
    "    center = []\n",
    "    center.append(df[randint(0,len(df))])\n",
    "    phi = squared_euclidean_dist(center[0],df)\n",
    "    px = (l*phi) / sum(phi) \n",
    "    for i in range(0,int(np.log(sum(phi)))):\n",
    "        uArray = np.random.uniform(0,1,len(df))\n",
    "        for j in range(0,len(df)):\n",
    "            if uArray[j] < px[j]:\n",
    "                center.append(df[j])    \n",
    "            phi = min_squared_euclidean_dist(center,df) \n",
    "            px = l*phi/sum(phi)\n",
    "    omega = np.zeros(len(center))\n",
    "    if(speedUp==True):\n",
    "        centerArray = np.asarray(center)\n",
    "        for i in range(0,len(df)):\n",
    "            sample = euclidean_dist_cython(centerArray,df[i]).tolist()\n",
    "            position = sample.index(min(sample))\n",
    "            omega[position] = omega[position] + 1\n",
    "    if(speedUp==False):\n",
    "        for i in range(0,len(df)):\n",
    "            sample = euclidean_dist(center,df[i]).tolist()\n",
    "            position = sample.index(min(sample))\n",
    "            omega[position] = omega[position] + 1\n",
    "    omegaProb = omega/sum(omega)\n",
    "    center2 = []\n",
    "    while len(center2) < k:\n",
    "        sample = np.random.multinomial(1,omegaProb).tolist()\n",
    "        position1 = sample.index(max(sample))\n",
    "        center2.append(center[position1])\n",
    "        phi = min_squared_euclidean_dist(center2,center)\n",
    "        px = phi/sum(phi)\n",
    "    return kMeans(k,df,np.asarray(center2),True,speedUp)"
   ]
  },
  {
   "cell_type": "markdown",
   "metadata": {},
   "source": [
    "3. Testing\n",
    "----"
   ]
  },
  {
   "cell_type": "markdown",
   "metadata": {},
   "source": [
    "Firstly, we need to test that our impletations actually work. Here we consider two simulation cases. "
   ]
  },
  {
   "cell_type": "markdown",
   "metadata": {},
   "source": [
    "### Example 1."
   ]
  },
  {
   "cell_type": "markdown",
   "metadata": {},
   "source": [
    "In the first case, we consider data in $R^3$. We pre-define five clusters and generate 100 data in each cluster.  "
   ]
  },
  {
   "cell_type": "code",
   "execution_count": 28,
   "metadata": {
    "collapsed": true
   },
   "outputs": [],
   "source": [
    "def simulation1(n):\n",
    "    \"\"\" \n",
    "    Generate data that come from 5 clusters whose centroids are specified.\n",
    "    \n",
    "    Parameters\n",
    "    ----------\n",
    "    n: number of data we want to obtain from each cluster\n",
    "    \"\"\"\n",
    "    mean = np.array([[10,10,10],[10,0,0],[0,10,0],[0,0,10],[0, 0, 0]])\n",
    "    data=np.random.multivariate_normal(mean[0,], np.eye(3), n)\n",
    "    data=np.hstack((data, np.zeros((data.shape[0],1))))\n",
    "    for i in [1,2,3,4]:\n",
    "        dataTmp=np.random.multivariate_normal(mean[i,], np.eye(3), n)\n",
    "        data=np.vstack((data,np.hstack((dataTmp, np.ones((dataTmp.shape[0],1))*i))))\n",
    "        np.random.shuffle(data)\n",
    "    observation = data [:,0:3]\n",
    "    clusterNumber = data [:,3]\n",
    "    return observation,clusterNumber"
   ]
  },
  {
   "cell_type": "code",
   "execution_count": 42,
   "metadata": {
    "collapsed": true
   },
   "outputs": [],
   "source": [
    "rng.seed(144)\n",
    "X,y = simulation1(100)\n",
    "initial = np.array([X[1],X[2],X[3],X[2],X[1]])"
   ]
  },
  {
   "cell_type": "code",
   "execution_count": 43,
   "metadata": {
    "collapsed": false
   },
   "outputs": [
    {
     "data": {
      "text/plain": [
       "array([[  9.97565e+00,   1.60241e-02,  -1.93955e-01],\n",
       "       [  4.74776e-02,   9.97001e+00,   2.88649e-01],\n",
       "       [ -7.44783e-03,  -1.91555e-01,  -2.28108e-02],\n",
       "       [ -5.50655e-02,  -5.86116e-02,   1.00713e+01],\n",
       "       [  1.00131e+01,   9.92592e+00,   1.00322e+01]])"
      ]
     },
     "execution_count": 43,
     "metadata": {},
     "output_type": "execute_result"
    }
   ],
   "source": [
    "rng.seed(144)\n",
    "random.seed(144)\n",
    "centers,index = kMeans(5,X,initial)\n",
    "centers"
   ]
  },
  {
   "cell_type": "code",
   "execution_count": 44,
   "metadata": {
    "collapsed": false
   },
   "outputs": [
    {
     "data": {
      "text/plain": [
       "array([[ -7.44783e-03,  -1.91555e-01,  -2.28108e-02],\n",
       "       [  1.00131e+01,   9.92592e+00,   1.00322e+01],\n",
       "       [  9.97565e+00,   1.60241e-02,  -1.93955e-01],\n",
       "       [ -5.50655e-02,  -5.86116e-02,   1.00713e+01],\n",
       "       [  4.74776e-02,   9.97001e+00,   2.88649e-01]])"
      ]
     },
     "execution_count": 44,
     "metadata": {},
     "output_type": "execute_result"
    }
   ],
   "source": [
    "rng.seed(144)\n",
    "random.seed(144)\n",
    "centers,index = kMeansPlusPlus(5,X)\n",
    "centers"
   ]
  },
  {
   "cell_type": "code",
   "execution_count": 45,
   "metadata": {
    "collapsed": false
   },
   "outputs": [
    {
     "data": {
      "text/plain": [
       "array([[  4.74776e-02,   9.97001e+00,   2.88649e-01],\n",
       "       [ -7.44783e-03,  -1.91555e-01,  -2.28108e-02],\n",
       "       [ -5.50655e-02,  -5.86116e-02,   1.00713e+01],\n",
       "       [  1.00131e+01,   9.92592e+00,   1.00322e+01],\n",
       "       [  9.97565e+00,   1.60241e-02,  -1.93955e-01]])"
      ]
     },
     "execution_count": 45,
     "metadata": {},
     "output_type": "execute_result"
    }
   ],
   "source": [
    "rng.seed(144)\n",
    "random.seed(144)\n",
    "centers,index = scalableKMeans(5,2,X)\n",
    "centers"
   ]
  },
  {
   "cell_type": "markdown",
   "metadata": {},
   "source": [
    "We can see that the basic k-means algorithm, the k-means++ algorithm and the scalable k-means++ algorithm actually work (they converge to similar centers)."
   ]
  },
  {
   "cell_type": "code",
   "execution_count": 49,
   "metadata": {
    "collapsed": false
   },
   "outputs": [
    {
     "name": "stdout",
     "output_type": "stream",
     "text": [
      "Wall time: 37 ms\n"
     ]
    }
   ],
   "source": [
    "%%time\n",
    "rng.seed(144)\n",
    "random.seed(144)\n",
    "centers,index = kMeans(5,X,initial)"
   ]
  },
  {
   "cell_type": "code",
   "execution_count": 50,
   "metadata": {
    "collapsed": false
   },
   "outputs": [
    {
     "name": "stdout",
     "output_type": "stream",
     "text": [
      "Wall time: 24 ms\n"
     ]
    }
   ],
   "source": [
    "%%time\n",
    "rng.seed(144)\n",
    "random.seed(144)\n",
    "centers,index = kMeansPlusPlus(5,X)"
   ]
  },
  {
   "cell_type": "code",
   "execution_count": 51,
   "metadata": {
    "collapsed": false
   },
   "outputs": [
    {
     "name": "stdout",
     "output_type": "stream",
     "text": [
      "Wall time: 1.85 s\n"
     ]
    }
   ],
   "source": [
    "%%time\n",
    "rng.seed(144)\n",
    "random.seed(144)\n",
    "centers,index = scalableKMeans(5,2,X)"
   ]
  },
  {
   "cell_type": "markdown",
   "metadata": {},
   "source": [
    "Actually, in this simple simulation case, the non-parallelized scalable k-means++ algorithm is much slower than the other two algorithms. Since the number of our data points is limited, the basic algorithm could converge really fast and the sequential initialization does not take long."
   ]
  },
  {
   "cell_type": "markdown",
   "metadata": {},
   "source": [
    "### Example 2."
   ]
  },
  {
   "cell_type": "markdown",
   "metadata": {},
   "source": [
    "There is a more important reason to 'force' us to use the k-means++ algorithm and the scalable version of it. The k-means algorithm may fail to identify correct clusters due to some specific initializations, which can be illustrated in the following figures: "
   ]
  },
  {
   "cell_type": "markdown",
   "metadata": {},
   "source": [
    "![](kMeans_initial.PNG)\n",
    "\n",
    "With this setting of clusters and initial guesses, the k-means algorithm may give the following results:\n",
    "\n",
    "![](kMeans.PNG)"
   ]
  },
  {
   "cell_type": "markdown",
   "metadata": {},
   "source": [
    "We also use simulated data to illustrate that this will actually happen. We pre-define four clusters and generate 100 data in each cluster. "
   ]
  },
  {
   "cell_type": "code",
   "execution_count": 52,
   "metadata": {
    "collapsed": true
   },
   "outputs": [],
   "source": [
    "def simulation2(n):\n",
    "    \"\"\" \n",
    "    Generate data that come from 3 clusters whose centroids are specified.\n",
    "    \n",
    "    Parameters\n",
    "    ----------\n",
    "    n: number of data we want to obtain from each cluster\n",
    "    \"\"\"\n",
    "    mean = np.array([[-5,-5],[-5,5],[5,-2],[5,3]])\n",
    "    data=np.random.multivariate_normal(mean[0,], np.eye(2), n)\n",
    "    data=np.hstack((data, np.zeros((data.shape[0],1))))\n",
    "    for i in [1,2,3]:\n",
    "        dataTmp=np.random.multivariate_normal(mean[i,], np.eye(2), n)\n",
    "        data=np.vstack((data,np.hstack((dataTmp, np.ones((dataTmp.shape[0],1))*i))))\n",
    "        np.random.shuffle(data)\n",
    "    observation = data [:,0:2]\n",
    "    clusterNumber = data [:,2]\n",
    "    return observation,clusterNumber"
   ]
  },
  {
   "cell_type": "code",
   "execution_count": 55,
   "metadata": {
    "collapsed": false
   },
   "outputs": [],
   "source": [
    "rng.seed(144)\n",
    "X2,y2 = simulation2(100)\n",
    "initial2 = np.array([X2[1],X2[2],X2[2],X2[1]])"
   ]
  },
  {
   "cell_type": "markdown",
   "metadata": {},
   "source": [
    "We could also plot the raw data."
   ]
  },
  {
   "cell_type": "code",
   "execution_count": 56,
   "metadata": {
    "collapsed": false
   },
   "outputs": [
    {
     "data": {
      "image/png": "[encoded data removed]",
      "text/plain": [
       "<matplotlib.figure.Figure at 0xc350fddeb8>"
      ]
     },
     "metadata": {},
     "output_type": "display_data"
    }
   ],
   "source": [
    "for i in range (3):\n",
    "    plt.scatter(X2[:,0], X2[:,1])"
   ]
  },
  {
   "cell_type": "markdown",
   "metadata": {},
   "source": [
    "Next, we apply all the three algorithms on this dataset and evaluate their performance.\n",
    "Basic k-means\n",
    "--------"
   ]
  },
  {
   "cell_type": "code",
   "execution_count": 57,
   "metadata": {
    "collapsed": false
   },
   "outputs": [
    {
     "data": {
      "text/plain": [
       "<matplotlib.collections.PathCollection at 0xc3486ab2e8>"
      ]
     },
     "execution_count": 57,
     "metadata": {},
     "output_type": "execute_result"
    },
    {
     "data": {
      "image/png": "[encoded data removed]",
      "text/plain": [
       "<matplotlib.figure.Figure at 0xc350fad470>"
      ]
     },
     "metadata": {},
     "output_type": "display_data"
    }
   ],
   "source": [
    "rng.seed(14)\n",
    "random.seed(14)\n",
    "centers,index = kMeans(4,X2,initial2)\n",
    "cols=iter(['r','y','g','b'])\n",
    "for i in range (4):\n",
    "    plt.scatter(X2[index == i][:,0], X2[index == i, :][:,1], color=next(cols))\n",
    "plt.scatter(centers[:,0], centers[:,1], color='r', marker='x')"
   ]
  },
  {
   "cell_type": "markdown",
   "metadata": {},
   "source": [
    "k-means++\n",
    "--------"
   ]
  },
  {
   "cell_type": "code",
   "execution_count": 58,
   "metadata": {
    "collapsed": false
   },
   "outputs": [
    {
     "data": {
      "text/plain": [
       "<matplotlib.collections.PathCollection at 0xc348714080>"
      ]
     },
     "execution_count": 58,
     "metadata": {},
     "output_type": "execute_result"
    },
    {
     "data": {
      "image/png": "[encoded data removed]",
      "text/plain": [
       "<matplotlib.figure.Figure at 0xc3486c22e8>"
      ]
     },
     "metadata": {},
     "output_type": "display_data"
    }
   ],
   "source": [
    "rng.seed(14)\n",
    "random.seed(14)\n",
    "centers,index = kMeansPlusPlus(4,X2)\n",
    "cols=iter(['r','y','g','b'])\n",
    "for i in range (4):\n",
    "    plt.scatter(X2[index == i][:,0], X2[index == i, :][:,1], color=next(cols))\n",
    "plt.scatter(centers[:,0], centers[:,1], color='r', marker='x')"
   ]
  },
  {
   "cell_type": "markdown",
   "metadata": {},
   "source": [
    "Scalable k-means++:\n",
    "--"
   ]
  },
  {
   "cell_type": "code",
   "execution_count": 59,
   "metadata": {
    "collapsed": false
   },
   "outputs": [
    {
     "data": {
      "text/plain": [
       "<matplotlib.collections.PathCollection at 0xc3513f6eb8>"
      ]
     },
     "execution_count": 59,
     "metadata": {},
     "output_type": "execute_result"
    },
    {
     "data": {
      "image/png": "[encoded data removed]",
      "text/plain": [
       "<matplotlib.figure.Figure at 0xc3487282b0>"
      ]
     },
     "metadata": {},
     "output_type": "display_data"
    }
   ],
   "source": [
    "rng.seed(14)\n",
    "random.seed(14)\n",
    "centers,index = scalableKMeans(4,2,X2)\n",
    "cols=iter(['r','y','g','b'])\n",
    "for i in range (4):\n",
    "    plt.scatter(X2[index == i][:,0], X2[index == i, :][:,1], color=next(cols))\n",
    "plt.scatter(centers[:,0], centers[:,1], color='r', marker='x')"
   ]
  },
  {
   "cell_type": "markdown",
   "metadata": {},
   "source": [
    "Based on this simulation case, the basic k-means algorithm sometimes gives us unreasonable results. This is because the random initialization, which may not be optimal in many cases. The other two algorithms, on the other hand, choose the initial cluster centers in a systematic way. Therefore, the clustering results are always reasonable."
   ]
  },
  {
   "cell_type": "markdown",
   "metadata": {},
   "source": [
    "4. Speeding up the code with Cython and removing forloops \n",
    "----"
   ]
  },
  {
   "cell_type": "markdown",
   "metadata": {},
   "source": [
    "### 4.1. Speeding up with Cython"
   ]
  },
  {
   "cell_type": "markdown",
   "metadata": {},
   "source": [
    "In this section, we try to optimize our code with Cython. Notice that there are several for-loops in our implementation, we could write some of these loops with Cython to make them faster. Some of the functions that slow down our program are the functions that compute the distance among points. In the basic k-means, the bottleneck is the for-loop for calculating the minimum distance between data and centroids, which is the only part that takes $O(n^2)$ time. We re-write these functions in Cython."
   ]
  },
  {
   "cell_type": "code",
   "execution_count": 142,
   "metadata": {
    "collapsed": false
   },
   "outputs": [
    {
     "name": "stdout",
     "output_type": "stream",
     "text": [
      "The cython extension is already loaded. To reload it, use:\n",
      "  %reload_ext cython\n"
     ]
    }
   ],
   "source": [
    "%load_ext cython"
   ]
  },
  {
   "cell_type": "code",
   "execution_count": 21,
   "metadata": {
    "collapsed": false
   },
   "outputs": [
    {
     "name": "stderr",
     "output_type": "stream",
     "text": [
      "ERROR: Cell magic `%%cython` not found.\n"
     ]
    }
   ],
   "source": [
    "%%cython -a\n",
    "from libc.math cimport sqrt\n",
    "import numpy as np\n",
    "import cython\n",
    "cimport numpy as np\n",
    "cimport cython\n",
    "\n",
    "DTYPE = np.float64\n",
    "ctypedef np.float64_t DTYPE_t\n",
    "@cython.boundscheck(False)  \n",
    "@cython.nonecheck(False)\n",
    "\n",
    "def euclidean_dist_cython(np.ndarray[DTYPE_t, ndim=2] data, np.ndarray[DTYPE_t, ndim=1] position):\n",
    "    \"\"\"\n",
    "    Calculate the squared Euclidean norm with Cython\n",
    "    \"\"\"\n",
    "    cdef unsigned int i\n",
    "    cdef unsigned int j = data.shape[0]\n",
    "    cdef np.ndarray[DTYPE_t, ndim=1] distance = np.zeros(j)\n",
    "    for i in xrange(0,j):\n",
    "        distance[i] = sqrt((data[i,0] - position[0])**2 + (data[i,1] - position[1])**2 + (data[i,2] - position[2])**2)\n",
    "    return distance\n",
    "\n",
    "\n",
    "def euclidean_squared_dist_cython(np.ndarray[DTYPE_t, ndim=2] data, np.ndarray[DTYPE_t, ndim=1] position):\n",
    "    \"\"\"\n",
    "    Calculate squared Euclidean distance between two vectors with Cython\n",
    "    \"\"\"\n",
    "    cdef unsigned int i\n",
    "    cdef unsigned int j = data.shape[0]\n",
    "    cdef np.ndarray[DTYPE_t, ndim=1] distance = np.zeros(j)\n",
    "    for i in xrange(0,j):\n",
    "        distance[i] = ((data[i,0] - position[0])**2 + (data[i,1] - position[1])**2 + (data[i,2] - position[2])**2)\n",
    "    return distance\n",
    "\n",
    "\n",
    "def min_euclidean_dist_cython(u, v, axis=-1):\n",
    "    \"\"\"\n",
    "    Calculate the minimum of Euclidean distance between a list of vectors and a vector v with Cython\n",
    "    \"\"\" \n",
    "    distMin = euclidean_dist_cython(u[0],v)\n",
    "    for i in range(0,len(u)):\n",
    "        distMin = np.minimum(euclidean_dist_cython(u[i],v),distMin)\n",
    "    return distMin\n",
    "\n",
    "\n",
    "def minimum_distance(np.ndarray[np.float64_t, ndim=1] data, np.ndarray[np.float64_t, ndim=2] centers):\n",
    "    \"\"\"\n",
    "    Calculate Euclidean distacne between two vectors with Cython\n",
    "    \"\"\"\n",
    "    cdef int minIndex = 0\n",
    "    cdef float minDistance = sys.maxint\n",
    "    cdef int i\n",
    "    cdef np.ndarray[np.float64_t, ndim=1] j\n",
    "    for i, j in enumerate(centers):\n",
    "        distance = np.sum((data - j) ** 2)\n",
    "        if minDistance > distance:\n",
    "            minDistance = distance\n",
    "            minIndex = i\n",
    "    return minDistance,minIndex"
   ]
  },
  {
   "cell_type": "markdown",
   "metadata": {},
   "source": [
    "Next we run our implementation with/without Cython on our example 1. "
   ]
  },
  {
   "cell_type": "code",
   "execution_count": null,
   "metadata": {
    "collapsed": false
   },
   "outputs": [],
   "source": [
    "%%time\n",
    "rng.seed(144)\n",
    "random.seed(144)\n",
    "centers,index = kMeans(5,X,initial)\n",
    "###---Basic K-means without Cython---###"
   ]
  },
  {
   "cell_type": "code",
   "execution_count": null,
   "metadata": {
    "collapsed": false
   },
   "outputs": [],
   "source": [
    "%%time\n",
    "rng.seed(144)\n",
    "random.seed(144)\n",
    "centers,index = kMeans(5,X,initial, speedUp=True)\n",
    "###---Basic K-means with Cython---###"
   ]
  },
  {
   "cell_type": "code",
   "execution_count": null,
   "metadata": {
    "collapsed": false
   },
   "outputs": [],
   "source": [
    "%%time\n",
    "rng.seed(144)\n",
    "random.seed(144)\n",
    "centers,index = kMeansPlusPlus(5,X)\n",
    "###---K-means++ without Cython---###"
   ]
  },
  {
   "cell_type": "code",
   "execution_count": null,
   "metadata": {
    "collapsed": false
   },
   "outputs": [],
   "source": [
    "%%time\n",
    "rng.seed(144)\n",
    "random.seed(144)\n",
    "centers,index = kMeansPlusPlus(5,X, speedUp=True)\n",
    "###---K-means++ with Cython---###"
   ]
  },
  {
   "cell_type": "code",
   "execution_count": null,
   "metadata": {
    "collapsed": false
   },
   "outputs": [],
   "source": [
    "%%time\n",
    "rng.seed(144)\n",
    "random.seed(144)\n",
    "centers,index = scalableKMeans(5,2,X)\n",
    "###---scalable K-means++ without Cython---###"
   ]
  },
  {
   "cell_type": "code",
   "execution_count": null,
   "metadata": {
    "collapsed": false
   },
   "outputs": [],
   "source": [
    "%%time\n",
    "rng.seed(144)\n",
    "random.seed(144)\n",
    "centers,index = scalableKMeans(5,2,X, speedUp=True)\n",
    "###---scalable K-means++ with Cython---###"
   ]
  },
  {
   "cell_type": "markdown",
   "metadata": {},
   "source": [
    "We can see that our Cython implementation improves the basic k-means significantly. However, it only improve the other two algorithms slightly. This is because our Cython version only optimizes the steps after initialization. But one of the bottlenecks of the other two algorithms are the initialization part (contains random sampling, etc.). Therefore, we need other optimization methods (or write the initialization part also in Cython)."
   ]
  },
  {
   "cell_type": "markdown",
   "metadata": {},
   "source": [
    "### 4.2. Speeding up by removing forloops"
   ]
  },
  {
   "cell_type": "code",
   "execution_count": null,
   "metadata": {
    "collapsed": false
   },
   "outputs": [],
   "source": [
    "from numba import jit"
   ]
  },
  {
   "cell_type": "code",
   "execution_count": null,
   "metadata": {
    "collapsed": false
   },
   "outputs": [],
   "source": [
    "@jit\n",
    "def kMeansFast(k,df, centroids,embedded = False):\n",
    "    \"\"\"\n",
    "    Implement the basic version of k-means algorithm faster.\n",
    "    \n",
    "    Parameters\n",
    "    ----------\n",
    "    k : the number of clusters\n",
    "    \n",
    "    df : the data we apply k-means to\n",
    "    \n",
    "    centroids : the initial guess for the centroids\n",
    "    \n",
    "    embedded : logic value, if it is True, we use initial as start points, \n",
    "    otherwise, use random samples from the data\n",
    "    \n",
    "    Returns\n",
    "    ----------\n",
    "    newCentroid: the final centroids for each cluster\n",
    "    \n",
    "    clusterNo1: indicate data belong to which cluster\n",
    "    \"\"\"\n",
    "    if not embedded:\n",
    "        centroids = df[np.random.choice(range(df.shape[0]),k), :]\n",
    "    extraData = df[:, np.newaxis, :]\n",
    "    newCentroids = np.empty(centroids.shape)\n",
    "    distances = np.sum((extraData -centroids)**2, axis=2)\n",
    "    minLocation1 = np.zeros(distances.shape)\n",
    "    minLocation2 = np.ones(distances.shape)\n",
    "    tmp1 = 0\n",
    "    while not np.array_equal(minLocation2,minLocation1) :\n",
    "        minLocation2 = minLocation1.copy()\n",
    "        distances = np.sum((extraData -centroids)**2, axis=2)\n",
    "        minLocation1 = np.zeros(distances.shape)\n",
    "        minLocation1[range(distances.shape[0]), np.argmin(distances, axis=1)] = 1\n",
    "        for i in range(0, k):\n",
    "            newCentroids[i] = np.mean(df[minLocation1[:, i] == True, :], axis=0)\n",
    "        tmp1 = tmp1 + 1\n",
    "        centroids = newCentroids.copy()\n",
    "    return newCentroids,tmp1"
   ]
  },
  {
   "cell_type": "code",
   "execution_count": null,
   "metadata": {
    "collapsed": true
   },
   "outputs": [],
   "source": [
    "def kMeansPlusPlusFast(k,df):\n",
    "    \"\"\"\n",
    "    Implement the k-means++ algorithm faster.\n",
    "    \n",
    "    Parameters\n",
    "    ----------\n",
    "    k : the number of clusters\n",
    "    \n",
    "    df : the data we apply k-means to\n",
    "\n",
    "    Returns\n",
    "    ----------\n",
    "    newCentroid: the final centroids for each cluster\n",
    "    \n",
    "    clusterNo1: indicate data belong to which cluster\n",
    "    \"\"\"\n",
    "    centroids = df[np.random.choice(range(df.shape[0]),1), :]\n",
    "    while len(centroids) < k:\n",
    "        distances = np.sum((df[:, np.newaxis, :] - centroids) ** 2, axis=2)\n",
    "        minLocation1 = np.zeros(distances.shape)\n",
    "        minLocation1[range(distances.shape[0]), np.argmin(distances, axis=1)] = 1\n",
    "        distribution = np.min(distances, axis=1)/np.sum(distances[minLocation1 == True])\n",
    "        centroids = np.vstack([centroids, df[np.random.choice(range(df.shape[0]),1, p = distribution),:]])\n",
    "    return kMeansFast(k,df,centroids,True)"
   ]
  },
  {
   "cell_type": "code",
   "execution_count": null,
   "metadata": {
    "collapsed": false
   },
   "outputs": [],
   "source": [
    "%%time\n",
    "res=kMeansFast(5,X,initial2)"
   ]
  },
  {
   "cell_type": "code",
   "execution_count": null,
   "metadata": {
    "collapsed": false
   },
   "outputs": [],
   "source": [
    "%%time\n",
    "res=kMeansPlusPlusFast(5,X)"
   ]
  },
  {
   "cell_type": "code",
   "execution_count": null,
   "metadata": {
    "collapsed": true
   },
   "outputs": [],
   "source": []
  }
 ],
 "metadata": {
  "kernelspec": {
   "display_name": "Python 3",
   "language": "python",
   "name": "python3"
  },
  "language_info": {
   "codemirror_mode": {
    "name": "ipython",
    "version": 3
   },
   "file_extension": ".py",
   "mimetype": "text/x-python",
   "name": "python",
   "nbconvert_exporter": "python",
   "pygments_lexer": "ipython3",
   "version": "3.5.1"
  }
 },
 "nbformat": 4,
 "nbformat_minor": 0
}

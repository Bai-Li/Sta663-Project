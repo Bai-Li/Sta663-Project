{
 "cells": [
  {
   "cell_type": "markdown",
   "metadata": {},
   "source": [
    "<center> Scalable K-means++</center>\n",
    " ====\n",
    "<center> Bai Li, Jialiang Mao </center>\n",
    "----"
   ]
  },
  {
   "cell_type": "markdown",
   "metadata": {},
   "source": [
    "Abstract\n",
    "----\n",
    "K-means algorithm is one of the most popular clustering algorithm. A crucial part of k-means algorithm is the choice of initial centers while a poor initial centers may lead to locally optimal solution. To beat this, the k-means++ initialization is proposed to obtain an initial set of centers that is close to the global optimum solution. However, because of its sequential nature, the k-means++ is not scalable. The paper introduces a scalable k-means++ algorithm by reducing the number of passes needed to obtain a good initialization. \n",
    "\n",
    "In this project, we implement this algorithm and test its performance with simulation studies. We also improve its performace by introducing Cython and vectorization."
   ]
  },
  {
   "cell_type": "markdown",
   "metadata": {},
   "source": [
    "1. Introduction\n",
    "----"
   ]
  },
  {
   "cell_type": "markdown",
   "metadata": {},
   "source": [
    "2. Implementation\n",
    "----\n",
    "\n",
    "In this section, we implement basic k-means, k-means++ and scalable k-means++. Note we also leave interfaces for cython so we can improve the performance later. "
   ]
  },
  {
   "cell_type": "code",
   "execution_count": 39,
   "metadata": {
    "collapsed": true
   },
   "outputs": [],
   "source": [
    "import os\n",
    "import sys\n",
    "import glob\n",
    "import matplotlib.pyplot as plt\n",
    "import numpy as np\n",
    "import pandas as pd\n",
    "import scipy.linalg as la\n",
    "import time\n",
    "from random import randint\n",
    "%matplotlib inline\n",
    "%precision 7\n",
    "plt.style.use('ggplot')"
   ]
  },
  {
   "cell_type": "code",
   "execution_count": 80,
   "metadata": {
    "collapsed": false
   },
   "outputs": [],
   "source": [
    "def data_generator(n):\n",
    "    \"\"\" generate data that come from 5 clusters\"\"\"\n",
    "    \"\"\" record which cluster they come from\"\"\"\n",
    "    mean0 = [10,10,10]\n",
    "    data0 = np.random.multivariate_normal(mean0, np.eye(3), n)\n",
    "    data0 = np.hstack((data0, np.ones((data0.shape[0],1))))\n",
    "    \n",
    "    mean1 = [10,0,0]\n",
    "    data1 = np.random.multivariate_normal(mean1, np.eye(3), n)\n",
    "    data1 = np.hstack((data1, np.ones((data1.shape[0],1)) * 2))\n",
    "    \n",
    "    mean2 = [0,10,0]\n",
    "    data2 = np.random.multivariate_normal(mean2, np.eye(3), n)\n",
    "    data2 = np.hstack((data2, np.ones((data2.shape[0],1)) * 3))\n",
    "    \n",
    "    mean3 = [0,0,10]\n",
    "    data3 = np.random.multivariate_normal(mean3, np.eye(3), n)\n",
    "    data3 = np.hstack((data3, np.ones((data3.shape[0],1)) * 4))\n",
    "    \n",
    "    mean4 = [0, 0, 0]\n",
    "    data4 = np.random.multivariate_normal(mean4, np.eye(3), n)\n",
    "    data4 = np.hstack((data4, np.ones((data4.shape[0],1)) * 5))\n",
    "    \n",
    "    data = np.vstack((data0, data1, data2, data3,data4))\n",
    "    np.random.shuffle(data)\n",
    "    #print (data.shape)\n",
    "    \n",
    "    observation = data [:,0:3]\n",
    "    cluster_number = data [:,3]-1\n",
    "    return observation,cluster_number"
   ]
  },
  {
   "cell_type": "code",
   "execution_count": 92,
   "metadata": {
    "collapsed": true
   },
   "outputs": [],
   "source": [
    "def data_generator2(n):\n",
    "    \"\"\" takes a number n and generates 3 times n data points with pre-specified 3 clusters.\"\"\"\n",
    "    mean0 = [3, 0]\n",
    "    data0 = np.random.multivariate_normal(mean0, np.eye(2), n)\n",
    "    data0 = np.hstack((data0, np.ones((data0.shape[0],1))))\n",
    "    \n",
    "    mean1 = [-3, 0]\n",
    "    data1 = np.random.multivariate_normal(mean1, np.eye(2), n)\n",
    "    data1 = np.hstack((data1, np.ones((data1.shape[0],1)) * 2))\n",
    "    \n",
    "    mean2 = [0, 5]\n",
    "    data2 = np.random.multivariate_normal(mean2, np.eye(2), n)\n",
    "    data2 = np.hstack((data2, np.ones((data2.shape[0],1)) * 3))\n",
    "    \n",
    "    data = np.vstack((data0, data1, data2))\n",
    "    np.random.shuffle(data)\n",
    "    \n",
    "    #print (data.shape)\n",
    "    observation = data [:,0:2]\n",
    "    cluster_number = data [:,2]-1\n",
    "    return observation,cluster_number"
   ]
  },
  {
   "cell_type": "code",
   "execution_count": 53,
   "metadata": {
    "collapsed": false
   },
   "outputs": [],
   "source": [
    "#define some measures that we will use\n",
    "\n",
    "def squared_euclidean_norm(u, axis=-1):\n",
    "    return((u**2).sum(axis))\n",
    "\n",
    "def euclidean_norm(u, axis=-1):\n",
    "    return np.sqrt(squared_euclidean_norm(u, axis))\n",
    "\n",
    "def squared_euclidean_dist(u, v, axis=-1):\n",
    "    \"\"\"Returns squared Euclidean distance between two vectors.\"\"\"\n",
    "    return squared_euclidean_norm(u-v, axis)\n",
    "\n",
    "def min_squared_euclidean_dist(uV, v, axis=-1):\n",
    "    \"\"\"Returns the minimum of Euclidean distance between a list of vectors and a vector v\"\"\"\n",
    "    minimum_dis_array = squared_euclidean_dist(uV[0],v)\n",
    "    for i in range(0,len(uV)):\n",
    "        minimum_dis_array = np.minimum(squared_euclidean_dist(uV[i],v),minimum_dis_array)\n",
    "    return minimum_dis_array\n",
    "\n",
    "def euclidean_dist(u, v, axis=-1):\n",
    "    \"\"\"Return Euclidean distacne between two vectors.\"\"\"\n",
    "    return np.sqrt(squared_euclidean_dist(u, v, axis))"
   ]
  },
  {
   "cell_type": "code",
   "execution_count": 31,
   "metadata": {
    "collapsed": false
   },
   "outputs": [],
   "source": [
    "def K_Means_basic(k,DATA, initial_centroid,advanced = False, isCython =False):\n",
    "    updated_centroid = initial_centroid\n",
    "    if not advanced: # meaning it is just a basic version, we sample 5 random points as our cluster\n",
    "        updated_centroid = DATA[np.random.choice(range(DATA.shape[0]),k), :]\n",
    "        \n",
    "    count, count2 = 0,0\n",
    "    n_feature = len(DATA[0])\n",
    "    assignment,assignment2 = np.ones(len(DATA)),np.zeros(len(DATA))\n",
    "    \n",
    "    while not np.array_equal(assignment,assignment2) : #if the labeling of cluster do not change\n",
    "        assignment2=assignment.copy()\n",
    "        for i in range(0,len(DATA)):\n",
    "            count = count +1\n",
    "            if not isCython:\n",
    "                dist_array = euclidean_dist(updated_centroid,DATA[i]) # find the distance array \n",
    "            if isCython:\n",
    "                dist_array = euclidean_dist_cython(updated_centroid,DATA[i])\n",
    "            assignment[i] = min(np.asarray(np.where(dist_array[:]==min(dist_array))))[0]\n",
    "        for j in range(0,k):\n",
    "            #updates the cnetroid\n",
    "            updated_centroid[j] = np.mean(DATA[np.where(assignment[:]==j)][:,0:n_feature], axis=0)\n",
    "        count2 = count2 +1\n",
    "    return updated_centroid,assignment"
   ]
  },
  {
   "cell_type": "code",
   "execution_count": 6,
   "metadata": {
    "collapsed": true
   },
   "outputs": [],
   "source": [
    "def K_Means_plusplus(k,DATA,isCython = False):\n",
    "    random_point_index = randint(0,len(DATA))\n",
    "    center = []\n",
    "    center.append(DATA[random_point_index]) #Sample a point uniformly at random from X\n",
    "    phi_x_C_vector = squared_euclidean_dist(center[0],DATA)\n",
    "    p_x = phi_x_C_vector/sum(phi_x_C_vector) #Calculate the weight probability\n",
    "    cluster2 = []\n",
    "    while len(center) < k:\n",
    "        nnn = np.random.multinomial(1,p_x).tolist() # sample a point with the weight probability\n",
    "        loc1 = nnn.index(max(nnn))\n",
    "        center.append(DATA[loc1])\n",
    "        phi_x_C_vector = min_squared_euclidean_dist(center,DATA)\n",
    "        p_x = phi_x_C_vector/sum(phi_x_C_vector) #updates the weight probability\n",
    "    return K_Means_basic(k,DATA,np.array(center),True,isCython)"
   ]
  },
  {
   "cell_type": "code",
   "execution_count": 54,
   "metadata": {
    "collapsed": true
   },
   "outputs": [],
   "source": [
    "def Scalable_K_Means(k,l,DATA,isCython=False):\n",
    "    random_point_index = randint(0,len(DATA))\n",
    "    center = []\n",
    "    center.append(DATA[random_point_index]) #Sample a point uniformly at random from X\n",
    "    \n",
    "    phi_x_C_vector = squared_euclidean_dist(center[0],DATA)\n",
    "    p_x = (l*phi_x_C_vector) / sum(phi_x_C_vector) #Calculate the weight probability\n",
    "    \n",
    "    for itjj in range(0,int(np.log(sum(phi_x_C_vector)))):\n",
    "        uniform_p = np.random.uniform(0,1,len(DATA))\n",
    "        \n",
    "        for itj in range(0,len(DATA)):\n",
    "            if uniform_p[itj] < p_x[itj]:\n",
    "                center.append(DATA[itj]) # sample each point x<- X independently\n",
    "                \n",
    "            phi_x_C_vector = min_squared_euclidean_dist(center,DATA) \n",
    "            p_x = l*phi_x_C_vector/sum(phi_x_C_vector)\n",
    "            \n",
    "    w_x_vector = np.zeros(len(center))\n",
    "    \n",
    "    if isCython: #put if statment outside of the for loop\n",
    "        center_array = np.asarray(center)\n",
    "        for i in range(0,len(DATA)):\n",
    "            nn = euclidean_dist_cython(center_array,DATA[i]).tolist()\n",
    "            loc = nn.index(min(nn))\n",
    "            w_x_vector[loc] = w_x_vector[loc] + 1\n",
    "    if not isCython:\n",
    "        for i in range(0,len(DATA)):\n",
    "            nn = euclidean_dist(center,DATA[i]).tolist()\n",
    "            loc = nn.index(min(nn))\n",
    "            w_x_vector[loc] = w_x_vector[loc] + 1\n",
    "    \n",
    "    w_x_vector_prob = w_x_vector/sum(w_x_vector)\n",
    "    center2 = []\n",
    "    \n",
    "    while len(center2) < k:\n",
    "        nnn = np.random.multinomial(1,w_x_vector_prob).tolist() # sample a point with the weight \n",
    "        loc1 = nnn.index(max(nnn))\n",
    "        center2.append(center[loc1])\n",
    "        phi_x_C_vector = min_squared_euclidean_dist(center2,center)\n",
    "        p_x = phi_x_C_vector/sum(phi_x_C_vector)\n",
    "    #print center2\n",
    "    return K_Means_basic(k,DATA,np.asarray(center2),True,isCython)"
   ]
  },
  {
   "cell_type": "markdown",
   "metadata": {},
   "source": [
    "3. Testing\n",
    "----"
   ]
  },
  {
   "cell_type": "code",
   "execution_count": 85,
   "metadata": {
    "collapsed": false
   },
   "outputs": [],
   "source": [
    "X,y = data_generator(100)\n",
    "initial_centroid2 = np.array([X[1],X[1],X[1],X[1],X[1]])"
   ]
  },
  {
   "cell_type": "code",
   "execution_count": 86,
   "metadata": {
    "collapsed": false
   },
   "outputs": [],
   "source": [
    "X2,y2 = data_generator2(100)\n",
    "initial_centroid = np.array([X2[1],X2[1],X2[1]])"
   ]
  },
  {
   "cell_type": "code",
   "execution_count": 87,
   "metadata": {
    "collapsed": false
   },
   "outputs": [
    {
     "data": {
      "text/plain": [
       "<matplotlib.collections.PathCollection at 0xa021ebc1d0>"
      ]
     },
     "execution_count": 87,
     "metadata": {},
     "output_type": "execute_result"
    },
    {
     "data": {
      "image/png": "[encoded data removed]",
      "text/plain": [
       "<matplotlib.figure.Figure at 0xa021ff5e48>"
      ]
     },
     "metadata": {},
     "output_type": "display_data"
    }
   ],
   "source": [
    "centers,index = K_Means_basic(3,X2,initial_centroid)\n",
    "cols=iter(['b','g','y'])\n",
    "for i in range (3):\n",
    "    plt.scatter(X2[index == i][:,0], X2[index == i, :][:,1], color=next(cols))\n",
    "plt.scatter(centers[:,0], centers[:,1], color='r', marker='x')"
   ]
  },
  {
   "cell_type": "markdown",
   "metadata": {},
   "source": [
    "The plot shows our basic k-means algorithm works well."
   ]
  },
  {
   "cell_type": "code",
   "execution_count": 88,
   "metadata": {
    "collapsed": false
   },
   "outputs": [
    {
     "name": "stdout",
     "output_type": "stream",
     "text": [
      "Wall time: 46.3 ms\n"
     ]
    }
   ],
   "source": [
    "%%time\n",
    "res_basic=K_Means_basic(5,X,initial_centroid2)"
   ]
  },
  {
   "cell_type": "code",
   "execution_count": 89,
   "metadata": {
    "collapsed": false
   },
   "outputs": [
    {
     "name": "stdout",
     "output_type": "stream",
     "text": [
      "Wall time: 38.6 ms\n"
     ]
    }
   ],
   "source": [
    "%%time\n",
    "res_pp=K_Means_plusplus(5,X)"
   ]
  },
  {
   "cell_type": "code",
   "execution_count": 90,
   "metadata": {
    "collapsed": false
   },
   "outputs": [
    {
     "name": "stdout",
     "output_type": "stream",
     "text": [
      "Wall time: 2.33 s\n"
     ]
    },
    {
     "name": "stderr",
     "output_type": "stream",
     "text": [
      "E:\\Anaconda\\lib\\site-packages\\numpy\\core\\_methods.py:59: RuntimeWarning: Mean of empty slice.\n",
      "  warnings.warn(\"Mean of empty slice.\", RuntimeWarning)\n"
     ]
    }
   ],
   "source": [
    "%%time\n",
    "res_SK=Scalable_K_Means(5,1,X)"
   ]
  },
  {
   "cell_type": "markdown",
   "metadata": {},
   "source": [
    "It can be observed that the non-parallelized Scalable k-means is much slower than the basic version of k-means"
   ]
  },
  {
   "cell_type": "markdown",
   "metadata": {},
   "source": [
    "4. Optimization with Cython\n",
    "----"
   ]
  }
 ],
 "metadata": {
  "kernelspec": {
   "display_name": "Python 3",
   "language": "python",
   "name": "python3"
  },
  "language_info": {
   "codemirror_mode": {
    "name": "ipython",
    "version": 3
   },
   "file_extension": ".py",
   "mimetype": "text/x-python",
   "name": "python",
   "nbconvert_exporter": "python",
   "pygments_lexer": "ipython3",
   "version": "3.5.1"
  }
 },
 "nbformat": 4,
 "nbformat_minor": 0
}
